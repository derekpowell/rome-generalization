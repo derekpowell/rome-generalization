{
 "cells": [
  {
   "cell_type": "code",
   "execution_count": 218,
   "metadata": {},
   "outputs": [],
   "source": [
    "import pandas as pd\n",
    "import numpy as np\n",
    "import json\n",
    "import time\n",
    "import random\n",
    "import pickle\n",
    "\n",
    "from pytrends.request import TrendReq\n",
    "pytrends = TrendReq(hl='en-US', tz=360)\n",
    "\n",
    "\n",
    "## https passed proxies: \thttps://20.99.187.69:8443, https://34.16.139.133:8585, https://35.245.181.60:8585"
   ]
  },
  {
   "cell_type": "code",
   "execution_count": 236,
   "metadata": {},
   "outputs": [],
   "source": [
    "\n",
    "import openai\n",
    "import configparser\n",
    "from  scipy.special import expit, logit, logsumexp\n",
    "\n",
    "from gpthelpers import *\n",
    "\n",
    "config = configparser.ConfigParser()\n",
    "config.read(\"config.ini\")\n",
    "api_key = config.get('Keys','openai_api_key')\n",
    "\n",
    "openai.api_key = api_key"
   ]
  },
  {
   "cell_type": "code",
   "execution_count": 383,
   "metadata": {},
   "outputs": [],
   "source": [
    "def token_probs_toarraylist(x):\n",
    "    xnew = []\n",
    "    for l in x:\n",
    "        l = [i for i in l if i!=None]\n",
    "        xnew.append(l)\n",
    "\n",
    "    return([np.array(i) for i in xnew])\n",
    "\n",
    "def avg_token_logprob(x):\n",
    "    tot = np.sum(x) - bias\n",
    "    N = x.shape[0] - count_tokens(prefix) + 1\n",
    "    return(tot)\n",
    "\n",
    "def popularity_logprobs(subj_list):\n",
    "    resp = gpt_token_probs(subj_list, prefix + \" \", model = \"text-curie-001\")\n",
    "    ylist = token_probs_toarraylist(resp)\n",
    "    out = [avg_token_logprob(y) for y in ylist]\n",
    "    return(out)\n",
    "\n",
    "prefix =  \"One example nearly everyone is familiar with is\"\n",
    "prefix_probs = gpt_token_probs(prefix, model = \"text-curie-001\")\n",
    "bias = np.sum(token_probs_toarraylist(prefix_probs)[0])\n",
    "\n",
    "# popularity_logprobs([\"Britney Spears\", \"Elvis Presley\", \"Bob Gaudio\"])\n",
    "\n"
   ]
  },
  {
   "cell_type": "code",
   "execution_count": 367,
   "metadata": {},
   "outputs": [],
   "source": [
    "json_data = [] # your list with json objects (dicts)\n",
    "\n",
    "with open('counterfact/counterfact.json') as json_file:\n",
    "   json_data = json.load(json_file)"
   ]
  },
  {
   "cell_type": "code",
   "execution_count": 408,
   "metadata": {},
   "outputs": [
    {
     "name": "stdout",
     "output_type": "stream",
     "text": [
      "34\n"
     ]
    }
   ],
   "source": [
    "subjects = list(set([x['requested_rewrite']['subject'] for x in json_data]))\n",
    "relations = list(set([x['requested_rewrite']['relation_id'] for x in json_data]))\n",
    "print(len(relations))"
   ]
  },
  {
   "cell_type": "code",
   "execution_count": 409,
   "metadata": {},
   "outputs": [
    {
     "name": "stdout",
     "output_type": "stream",
     "text": [
      "scoring popularity for relation: P1303\n",
      "scoring popularity for relation: P641\n",
      "scoring popularity for relation: P276\n",
      "scoring popularity for relation: P159\n",
      "scoring popularity for relation: P27\n",
      "scoring popularity for relation: P131\n",
      "scoring popularity for relation: P106\n",
      "scoring popularity for relation: P413\n",
      "scoring popularity for relation: P740\n",
      "scoring popularity for relation: P449\n",
      "scoring popularity for relation: P937\n",
      "scoring popularity for relation: P463\n",
      "scoring popularity for relation: P495\n",
      "scoring popularity for relation: P364\n",
      "scoring popularity for relation: P20\n",
      "scoring popularity for relation: P190\n",
      "scoring popularity for relation: P36\n",
      "scoring popularity for relation: P103\n",
      "scoring popularity for relation: P101\n",
      "scoring popularity for relation: P176\n",
      "scoring popularity for relation: P17\n",
      "scoring popularity for relation: P1412\n",
      "scoring popularity for relation: P138\n",
      "scoring popularity for relation: P37\n",
      "scoring popularity for relation: P178\n",
      "scoring popularity for relation: P127\n",
      "scoring popularity for relation: P108\n",
      "scoring popularity for relation: P407\n",
      "scoring popularity for relation: P264\n",
      "scoring popularity for relation: P30\n",
      "scoring popularity for relation: P136\n",
      "scoring popularity for relation: P39\n",
      "scoring popularity for relation: P140\n",
      "scoring popularity for relation: P19\n"
     ]
    }
   ],
   "source": [
    "## gpt thing instead\n",
    "res_dict = dict()\n",
    "\n",
    "for r in relations:\n",
    "    print(\"scoring popularity for relation:\", r)\n",
    "    subjs = get_subj_by_rid(r)\n",
    "    scores = popularity_logprobs(subjs)\n",
    "    res_dict[r] = pd.DataFrame({\"subject\":subjs, \"logprob\":scores})\n",
    "\n"
   ]
  },
  {
   "cell_type": "code",
   "execution_count": 410,
   "metadata": {},
   "outputs": [],
   "source": [
    "# Store data (serialize)\n",
    "with open('counterfact/pop-results-curie.pickle', 'wb') as handle:\n",
    "    pickle.dump(res_dict, handle, protocol=pickle.HIGHEST_PROTOCOL)"
   ]
  },
  {
   "cell_type": "code",
   "execution_count": 413,
   "metadata": {},
   "outputs": [
    {
     "data": {
      "text/html": [
       "<div>\n",
       "<style scoped>\n",
       "    .dataframe tbody tr th:only-of-type {\n",
       "        vertical-align: middle;\n",
       "    }\n",
       "\n",
       "    .dataframe tbody tr th {\n",
       "        vertical-align: top;\n",
       "    }\n",
       "\n",
       "    .dataframe thead th {\n",
       "        text-align: right;\n",
       "    }\n",
       "</style>\n",
       "<table border=\"1\" class=\"dataframe\">\n",
       "  <thead>\n",
       "    <tr style=\"text-align: right;\">\n",
       "      <th></th>\n",
       "      <th>subject</th>\n",
       "      <th>logprob</th>\n",
       "    </tr>\n",
       "  </thead>\n",
       "  <tbody>\n",
       "    <tr>\n",
       "      <th>21</th>\n",
       "      <td>Stratford Army Engine Plant</td>\n",
       "      <td>-45.632642</td>\n",
       "    </tr>\n",
       "    <tr>\n",
       "      <th>511</th>\n",
       "      <td>Warszawa Wschodnia Osobowa railway station</td>\n",
       "      <td>-46.322001</td>\n",
       "    </tr>\n",
       "    <tr>\n",
       "      <th>64</th>\n",
       "      <td>32nd Indiana Monument</td>\n",
       "      <td>-46.696029</td>\n",
       "    </tr>\n",
       "    <tr>\n",
       "      <th>147</th>\n",
       "      <td>Servus Credit Union Place</td>\n",
       "      <td>-46.767124</td>\n",
       "    </tr>\n",
       "    <tr>\n",
       "      <th>707</th>\n",
       "      <td>936 ABC Hobart</td>\n",
       "      <td>-47.130675</td>\n",
       "    </tr>\n",
       "    <tr>\n",
       "      <th>359</th>\n",
       "      <td>Rotunde (Vienna)</td>\n",
       "      <td>-47.301253</td>\n",
       "    </tr>\n",
       "    <tr>\n",
       "      <th>347</th>\n",
       "      <td>Kingsley Field Air National Guard Base</td>\n",
       "      <td>-47.372801</td>\n",
       "    </tr>\n",
       "    <tr>\n",
       "      <th>615</th>\n",
       "      <td>Losiny Ostrov National Park</td>\n",
       "      <td>-47.390660</td>\n",
       "    </tr>\n",
       "    <tr>\n",
       "      <th>16</th>\n",
       "      <td>Sungai Mamberamo</td>\n",
       "      <td>-47.608731</td>\n",
       "    </tr>\n",
       "    <tr>\n",
       "      <th>364</th>\n",
       "      <td>New Club, Edinburgh</td>\n",
       "      <td>-47.722683</td>\n",
       "    </tr>\n",
       "    <tr>\n",
       "      <th>598</th>\n",
       "      <td>Alebtong District</td>\n",
       "      <td>-48.645647</td>\n",
       "    </tr>\n",
       "    <tr>\n",
       "      <th>575</th>\n",
       "      <td>Electoral district of South Bourke</td>\n",
       "      <td>-48.957180</td>\n",
       "    </tr>\n",
       "    <tr>\n",
       "      <th>115</th>\n",
       "      <td>Kuthiyathodu grama panchayat</td>\n",
       "      <td>-48.997044</td>\n",
       "    </tr>\n",
       "    <tr>\n",
       "      <th>329</th>\n",
       "      <td>Matabitchuan River</td>\n",
       "      <td>-49.305438</td>\n",
       "    </tr>\n",
       "    <tr>\n",
       "      <th>226</th>\n",
       "      <td>Marian High School (Mishawaka, Indiana)</td>\n",
       "      <td>-49.975328</td>\n",
       "    </tr>\n",
       "    <tr>\n",
       "      <th>263</th>\n",
       "      <td>90.3 ABC Sunshine Coast</td>\n",
       "      <td>-53.098897</td>\n",
       "    </tr>\n",
       "    <tr>\n",
       "      <th>502</th>\n",
       "      <td>Redwood Meadows, Alberta</td>\n",
       "      <td>-53.308565</td>\n",
       "    </tr>\n",
       "    <tr>\n",
       "      <th>692</th>\n",
       "      <td>Klaskanine River</td>\n",
       "      <td>-55.416634</td>\n",
       "    </tr>\n",
       "    <tr>\n",
       "      <th>184</th>\n",
       "      <td>Edmonton City Centre (Blatchford Field) Airport</td>\n",
       "      <td>-60.877156</td>\n",
       "    </tr>\n",
       "    <tr>\n",
       "      <th>157</th>\n",
       "      <td>Newstead House Board of Trustees</td>\n",
       "      <td>-60.907441</td>\n",
       "    </tr>\n",
       "  </tbody>\n",
       "</table>\n",
       "</div>"
      ],
      "text/plain": [
       "                                             subject    logprob\n",
       "21                       Stratford Army Engine Plant -45.632642\n",
       "511       Warszawa Wschodnia Osobowa railway station -46.322001\n",
       "64                             32nd Indiana Monument -46.696029\n",
       "147                        Servus Credit Union Place -46.767124\n",
       "707                                   936 ABC Hobart -47.130675\n",
       "359                                 Rotunde (Vienna) -47.301253\n",
       "347           Kingsley Field Air National Guard Base -47.372801\n",
       "615                      Losiny Ostrov National Park -47.390660\n",
       "16                                  Sungai Mamberamo -47.608731\n",
       "364                              New Club, Edinburgh -47.722683\n",
       "598                                Alebtong District -48.645647\n",
       "575               Electoral district of South Bourke -48.957180\n",
       "115                     Kuthiyathodu grama panchayat -48.997044\n",
       "329                               Matabitchuan River -49.305438\n",
       "226          Marian High School (Mishawaka, Indiana) -49.975328\n",
       "263                          90.3 ABC Sunshine Coast -53.098897\n",
       "502                         Redwood Meadows, Alberta -53.308565\n",
       "692                                 Klaskanine River -55.416634\n",
       "184  Edmonton City Centre (Blatchford Field) Airport -60.877156\n",
       "157                 Newstead House Board of Trustees -60.907441"
      ]
     },
     "execution_count": 413,
     "metadata": {},
     "output_type": "execute_result"
    }
   ],
   "source": [
    "res_dict[\"P131\"].sort_values(by = \"logprob\", ascending=False).tail(20)"
   ]
  },
  {
   "cell_type": "code",
   "execution_count": 405,
   "metadata": {},
   "outputs": [
    {
     "data": {
      "text/plain": [
       "[{'case_id': 4664,\n",
       "  'pararel_idx': 23761,\n",
       "  'requested_rewrite': {'prompt': '{} is a professional',\n",
       "   'relation_id': 'P641',\n",
       "   'target_new': {'str': 'soccer', 'id': 'Q2736'},\n",
       "   'target_true': {'str': 'basketball', 'id': 'Q5372'},\n",
       "   'subject': 'Michael Jordan'},\n",
       "  'paraphrase_prompts': ['Casquette as above. Michael Jordan professionally plays the sport',\n",
       "   'He has brown hair. Michael Jordan, the'],\n",
       "  'neighborhood_prompts': ['What sport does Dennis Rodman play? They play',\n",
       "   'Tim Duncan professionally plays the sport',\n",
       "   'Tim Duncan plays',\n",
       "   'Charles Barkley professionally plays the sport',\n",
       "   'What sport does Dennis Rodman play? They play',\n",
       "   'Tim Duncan, the',\n",
       "   'What sport does Kevin Durant play? They play',\n",
       "   'Charles Barkley plays',\n",
       "   'Wilt Chamberlain professionally plays the sport',\n",
       "   'Kevin Durant plays'],\n",
       "  'attribute_prompts': ['Walter Zenga, the',\n",
       "   'David Beckham, the',\n",
       "   'Lothar Matthäus professionally plays the sport',\n",
       "   'Wayne Rooney is a professional',\n",
       "   'Andrea Pirlo professionally plays the sport',\n",
       "   'David Beckham is a professional',\n",
       "   'Ashley Cole professionally plays the sport',\n",
       "   'Tim Howard is a professional',\n",
       "   'What sport does Wayne Rooney play? They play',\n",
       "   'Walter Zenga professionally plays the sport'],\n",
       "  'generation_prompts': [\"Michael Jordan's greatest weakness is\",\n",
       "   \"Michael Jordan's greatest weakness is\",\n",
       "   \"Michael Jordan's greatest weakness is\",\n",
       "   \"Michael Jordan's greatest strength is\",\n",
       "   \"Michael Jordan's greatest weakness is\",\n",
       "   'Michael Jordan is extraordinarily good at',\n",
       "   \"Michael Jordan's greatest weakness is\",\n",
       "   'Michael Jordan is extraordinarily good at',\n",
       "   \"Michael Jordan's greatest weakness is\",\n",
       "   'Michael Jordan is extraordinarily good at']}]"
      ]
     },
     "execution_count": 405,
     "metadata": {},
     "output_type": "execute_result"
    }
   ],
   "source": [
    "[x for x in json_data if x['requested_rewrite']['subject']==\"Michael Jordan\"]"
   ]
  },
  {
   "cell_type": "code",
   "execution_count": 188,
   "metadata": {},
   "outputs": [],
   "source": [
    "# for each relation, first find most popular thing\n",
    "# 20k things / 5 per query = 4k queries\n",
    "\n",
    "# then, score all others gainst most popular, 4 at a time\n",
    "# 20k things / 4 per query = 5k queries\n",
    "\n",
    "def find_most_popular_batch(kw_list):\n",
    "    pytrends.build_payload(kw_list = kw_list)\n",
    "    res = pytrends.interest_by_region(resolution='COUNTRY', inc_low_vol=False, inc_geo_code=False)\n",
    "    out = res.loc[\"United States\"].sort_values(ascending=False).index[0]\n",
    "\n",
    "    return(out)\n",
    "\n",
    "def find_most_popular(x):\n",
    "    i = 1\n",
    "    best = x[0]\n",
    "    while i < len(x):\n",
    "        l = x[i:i+4]\n",
    "        kw_list = [best] + l\n",
    "        best = find_most_popular_batch(kw_list)\n",
    "        i+= 4\n",
    "        time.sleep(1.1)\n",
    "\n",
    "    return(best)\n",
    "\n"
   ]
  },
  {
   "cell_type": "code",
   "execution_count": 199,
   "metadata": {},
   "outputs": [],
   "source": [
    "\n",
    "\n",
    "def popularity_score_batch(input_list, reference):\n",
    "    pytrends.build_payload(kw_list = input_list + [reference])\n",
    "    res = pytrends.interest_by_region(resolution='COUNTRY', inc_low_vol=False, inc_geo_code=False)\n",
    "    out = res.loc[\"United States\"]\n",
    "\n",
    "\n",
    "    return(out)\n",
    "\n",
    "\n",
    "def popularity_scores(x, reference):\n",
    "    i = 0\n",
    "    out = pd.Series()\n",
    "    x.remove(reference)\n",
    "    while i < len(x):\n",
    "        l = x[i:i+4]\n",
    "        scores = popularity_score_batch(l, reference)\n",
    "        out = pd.concat([out, scores[0:4]])\n",
    "        # out = out.append(z2, )\n",
    "        i+= 4\n",
    "        time.sleep(1.1)\n",
    "\n",
    "    return(out)"
   ]
  },
  {
   "cell_type": "code",
   "execution_count": 121,
   "metadata": {},
   "outputs": [],
   "source": [
    "s_p1303 = [x['requested_rewrite']['subject'] for x in json_data if x['requested_rewrite']['relation_id']==\"P1303\"]\n",
    "\n",
    "most_pop = find_most_popular(s_p1303[0:100])\n",
    "pop_scores = popularity_scores(s_p1303[0:100], most_pop)\n"
   ]
  },
  {
   "cell_type": "code",
   "execution_count": 134,
   "metadata": {},
   "outputs": [
    {
     "data": {
      "text/plain": [
       "Britney Spears    96\n",
       "Britney Spears    50\n",
       "The Edge          45\n",
       "Elvis Presley     39\n",
       "George Martin     10\n",
       "Sheryl Crow        8\n",
       "Cat Stevens        6\n",
       "Tom Waits          5\n",
       "Brian May          5\n",
       "Chris Daughtry     4\n",
       "John Fogerty       4\n",
       "Julian Lennon      2\n",
       "David Gates        1\n",
       "Chris Thile        1\n",
       "Peter Head         1\n",
       "Nita Strauss       1\n",
       "Franz Liszt        1\n",
       "Name: United States, dtype: int64"
      ]
     },
     "execution_count": 134,
     "metadata": {},
     "output_type": "execute_result"
    }
   ],
   "source": [
    "# pop_scores.sort_values(ascending=False).head(10)\n",
    "pop_scores[pop_scores > 0].sort_values(ascending=False)"
   ]
  },
  {
   "cell_type": "code",
   "execution_count": 227,
   "metadata": {},
   "outputs": [],
   "source": [
    "def get_subj_by_rid(relation_id):\n",
    "    subjs = [x['requested_rewrite']['subject'] for x in json_data if x['requested_rewrite']['relation_id']==relation_id]\n",
    "    return(list(set(subjs)))"
   ]
  },
  {
   "cell_type": "code",
   "execution_count": 219,
   "metadata": {},
   "outputs": [],
   "source": [
    "## for each relation type, find the popularity scores!\n",
    "res_dict = dict()"
   ]
  },
  {
   "cell_type": "code",
   "execution_count": 229,
   "metadata": {},
   "outputs": [
    {
     "name": "stdout",
     "output_type": "stream",
     "text": [
      "scoring popularity for relation: P27\n"
     ]
    },
    {
     "ename": "TooManyRequestsError",
     "evalue": "The request failed: Google returned a response with code 429",
     "output_type": "error",
     "traceback": [
      "\u001b[0;31m---------------------------------------------------------------------------\u001b[0m",
      "\u001b[0;31mTooManyRequestsError\u001b[0m                      Traceback (most recent call last)",
      "Cell \u001b[0;32mIn[229], line 5\u001b[0m\n\u001b[1;32m      3\u001b[0m subjs \u001b[39m=\u001b[39m get_subj_by_rid(r)\n\u001b[1;32m      4\u001b[0m \u001b[39m# subjs = random.choices(get_subj_by_rid(r), k=20)\u001b[39;00m\n\u001b[0;32m----> 5\u001b[0m ref \u001b[39m=\u001b[39m find_most_popular(subjs)\n\u001b[1;32m      6\u001b[0m time\u001b[39m.\u001b[39msleep(\u001b[39m1.1\u001b[39m)\n\u001b[1;32m      7\u001b[0m scores \u001b[39m=\u001b[39m popularity_scores(subjs, ref)\n",
      "Cell \u001b[0;32mIn[188], line 18\u001b[0m, in \u001b[0;36mfind_most_popular\u001b[0;34m(x)\u001b[0m\n\u001b[1;32m     16\u001b[0m     l \u001b[39m=\u001b[39m x[i:i\u001b[39m+\u001b[39m\u001b[39m4\u001b[39m]\n\u001b[1;32m     17\u001b[0m     kw_list \u001b[39m=\u001b[39m [best] \u001b[39m+\u001b[39m l\n\u001b[0;32m---> 18\u001b[0m     best \u001b[39m=\u001b[39m find_most_popular_batch(kw_list)\n\u001b[1;32m     19\u001b[0m     i\u001b[39m+\u001b[39m\u001b[39m=\u001b[39m \u001b[39m4\u001b[39m\n\u001b[1;32m     21\u001b[0m \u001b[39mreturn\u001b[39;00m(best)\n",
      "Cell \u001b[0;32mIn[188], line 5\u001b[0m, in \u001b[0;36mfind_most_popular_batch\u001b[0;34m(kw_list)\u001b[0m\n\u001b[1;32m      4\u001b[0m \u001b[39mdef\u001b[39;00m \u001b[39mfind_most_popular_batch\u001b[39m(kw_list):\n\u001b[0;32m----> 5\u001b[0m     pytrends\u001b[39m.\u001b[39;49mbuild_payload(kw_list \u001b[39m=\u001b[39;49m kw_list)\n\u001b[1;32m      6\u001b[0m     res \u001b[39m=\u001b[39m pytrends\u001b[39m.\u001b[39minterest_by_region(resolution\u001b[39m=\u001b[39m\u001b[39m'\u001b[39m\u001b[39mCOUNTRY\u001b[39m\u001b[39m'\u001b[39m, inc_low_vol\u001b[39m=\u001b[39m\u001b[39mFalse\u001b[39;00m, inc_geo_code\u001b[39m=\u001b[39m\u001b[39mFalse\u001b[39;00m)\n\u001b[1;32m      7\u001b[0m     time\u001b[39m.\u001b[39msleep(\u001b[39m1.\u001b[39m)\n",
      "File \u001b[0;32m~/anaconda3/envs/openai/lib/python3.9/site-packages/pytrends/request.py:189\u001b[0m, in \u001b[0;36mTrendReq.build_payload\u001b[0;34m(self, kw_list, cat, timeframe, geo, gprop)\u001b[0m\n\u001b[1;32m    187\u001b[0m \u001b[39mself\u001b[39m\u001b[39m.\u001b[39mtoken_payload[\u001b[39m'\u001b[39m\u001b[39mreq\u001b[39m\u001b[39m'\u001b[39m] \u001b[39m=\u001b[39m json\u001b[39m.\u001b[39mdumps(\u001b[39mself\u001b[39m\u001b[39m.\u001b[39mtoken_payload[\u001b[39m'\u001b[39m\u001b[39mreq\u001b[39m\u001b[39m'\u001b[39m])\n\u001b[1;32m    188\u001b[0m \u001b[39m# get tokens\u001b[39;00m\n\u001b[0;32m--> 189\u001b[0m \u001b[39mself\u001b[39;49m\u001b[39m.\u001b[39;49m_tokens()\n\u001b[1;32m    190\u001b[0m \u001b[39mreturn\u001b[39;00m\n",
      "File \u001b[0;32m~/anaconda3/envs/openai/lib/python3.9/site-packages/pytrends/request.py:195\u001b[0m, in \u001b[0;36mTrendReq._tokens\u001b[0;34m(self)\u001b[0m\n\u001b[1;32m    193\u001b[0m \u001b[39m\"\"\"Makes request to Google to get API tokens for interest over time, interest by region and related queries\"\"\"\u001b[39;00m\n\u001b[1;32m    194\u001b[0m \u001b[39m# make the request and parse the returned json\u001b[39;00m\n\u001b[0;32m--> 195\u001b[0m widget_dicts \u001b[39m=\u001b[39m \u001b[39mself\u001b[39;49m\u001b[39m.\u001b[39;49m_get_data(\n\u001b[1;32m    196\u001b[0m     url\u001b[39m=\u001b[39;49mTrendReq\u001b[39m.\u001b[39;49mGENERAL_URL,\n\u001b[1;32m    197\u001b[0m     method\u001b[39m=\u001b[39;49mTrendReq\u001b[39m.\u001b[39;49mPOST_METHOD,\n\u001b[1;32m    198\u001b[0m     params\u001b[39m=\u001b[39;49m\u001b[39mself\u001b[39;49m\u001b[39m.\u001b[39;49mtoken_payload,\n\u001b[1;32m    199\u001b[0m     trim_chars\u001b[39m=\u001b[39;49m\u001b[39m4\u001b[39;49m,\n\u001b[1;32m    200\u001b[0m )[\u001b[39m'\u001b[39m\u001b[39mwidgets\u001b[39m\u001b[39m'\u001b[39m]\n\u001b[1;32m    201\u001b[0m \u001b[39m# order of the json matters...\u001b[39;00m\n\u001b[1;32m    202\u001b[0m first_region_token \u001b[39m=\u001b[39m \u001b[39mTrue\u001b[39;00m\n",
      "File \u001b[0;32m~/anaconda3/envs/openai/lib/python3.9/site-packages/pytrends/request.py:159\u001b[0m, in \u001b[0;36mTrendReq._get_data\u001b[0;34m(self, url, method, trim_chars, **kwargs)\u001b[0m\n\u001b[1;32m    157\u001b[0m \u001b[39melse\u001b[39;00m:\n\u001b[1;32m    158\u001b[0m     \u001b[39mif\u001b[39;00m response\u001b[39m.\u001b[39mstatus_code \u001b[39m==\u001b[39m status_codes\u001b[39m.\u001b[39mcodes\u001b[39m.\u001b[39mtoo_many_requests:\n\u001b[0;32m--> 159\u001b[0m         \u001b[39mraise\u001b[39;00m exceptions\u001b[39m.\u001b[39mTooManyRequestsError\u001b[39m.\u001b[39mfrom_response(response)\n\u001b[1;32m    160\u001b[0m     \u001b[39mraise\u001b[39;00m exceptions\u001b[39m.\u001b[39mResponseError\u001b[39m.\u001b[39mfrom_response(response)\n",
      "\u001b[0;31mTooManyRequestsError\u001b[0m: The request failed: Google returned a response with code 429"
     ]
    }
   ],
   "source": [
    "for r in relations[4:]:\n",
    "    print(\"scoring popularity for relation:\", r)\n",
    "    subjs = get_subj_by_rid(r)\n",
    "    # subjs = random.choices(get_subj_by_rid(r), k=20)\n",
    "    ref = find_most_popular(subjs)\n",
    "    time.sleep(1.1)\n",
    "    scores = popularity_scores(subjs, ref)\n",
    "    res_dict[r] = {\"ref\": ref, \"scores\": scores}"
   ]
  },
  {
   "cell_type": "code",
   "execution_count": 221,
   "metadata": {},
   "outputs": [],
   "source": [
    "# Store data (serialize)\n",
    "with open('counterfact/pop-results.pickle', 'wb') as handle:\n",
    "    pickle.dump(res_dict, handle, protocol=pickle.HIGHEST_PROTOCOL)\n"
   ]
  },
  {
   "cell_type": "code",
   "execution_count": 359,
   "metadata": {},
   "outputs": [],
   "source": [
    "# # Load data (deserialize)\n",
    "with open('counterfact/pop-test.pickle', 'rb') as handle:\n",
    "    res_dict = pickle.load(handle)\n",
    "\n",
    "# unserialized_data[\"P1303\"][\"scores\"]"
   ]
  },
  {
   "cell_type": "code",
   "execution_count": 364,
   "metadata": {},
   "outputs": [
    {
     "data": {
      "text/plain": [
       "Cadillac                              100\n",
       "Boston Market                          12\n",
       "McGill University                       1\n",
       "Indian Space Research Organisation      0\n",
       "Beijing Benz                            0\n",
       "Susquehanna Radio Corporation           0\n",
       "DQE                                     0\n",
       "Holt Renfrew                            0\n",
       "Roger Dubuis                            0\n",
       "Miller Brewing Company                  0\n",
       "Interislander                           0\n",
       "Northern & Shell                        0\n",
       "Royal Mail Steam Packet Company         0\n",
       "Syrian Arab Army                        0\n",
       "Beykent University                      0\n",
       "SKY Perfect Well Think                  0\n",
       "BayernLB                                0\n",
       "Russian Post                            0\n",
       "IndusInd Bank                           0\n",
       "Pepe Jeans                              0\n",
       "dtype: int64"
      ]
     },
     "execution_count": 364,
     "metadata": {},
     "output_type": "execute_result"
    }
   ],
   "source": [
    "res_dict[\"P159\"][\"scores\"].sort_values(ascending=False)"
   ]
  },
  {
   "cell_type": "code",
   "execution_count": null,
   "metadata": {},
   "outputs": [],
   "source": []
  }
 ],
 "metadata": {
  "kernelspec": {
   "display_name": "Python 3 (ipykernel)",
   "language": "python",
   "name": "python3"
  },
  "language_info": {
   "codemirror_mode": {
    "name": "ipython",
    "version": 3
   },
   "file_extension": ".py",
   "mimetype": "text/x-python",
   "name": "python",
   "nbconvert_exporter": "python",
   "pygments_lexer": "ipython3",
   "version": "3.9.12"
  }
 },
 "nbformat": 4,
 "nbformat_minor": 4
}
