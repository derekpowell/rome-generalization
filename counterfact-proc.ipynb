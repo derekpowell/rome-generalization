{
 "cells": [
  {
   "cell_type": "code",
   "execution_count": 218,
   "metadata": {},
   "outputs": [],
   "source": [
    "import pandas as pd\n",
    "import numpy as np\n",
    "import json\n",
    "import time\n",
    "import random\n",
    "import pickle\n",
    "\n",
    "from pytrends.request import TrendReq\n",
    "pytrends = TrendReq(hl='en-US', tz=360)\n",
    "\n",
    "\n",
    "## https passed proxies: \thttps://20.99.187.69:8443, https://34.16.139.133:8585, https://35.245.181.60:8585"
   ]
  },
  {
   "cell_type": "code",
   "execution_count": null,
   "metadata": {},
   "outputs": [],
   "source": []
  },
  {
   "cell_type": "code",
   "execution_count": 186,
   "metadata": {},
   "outputs": [],
   "source": [
    "json_data = [] # your list with json objects (dicts)\n",
    "\n",
    "with open('counterfact/counterfact.json') as json_file:\n",
    "   json_data = json.load(json_file)"
   ]
  },
  {
   "cell_type": "code",
   "execution_count": 187,
   "metadata": {},
   "outputs": [
    {
     "name": "stdout",
     "output_type": "stream",
     "text": [
      "34\n"
     ]
    }
   ],
   "source": [
    "subjects = list(set([x['requested_rewrite']['subject'] for x in json_data]))\n",
    "relations = list(set([x['requested_rewrite']['relation_id'] for x in json_data]))\n",
    "print(len(relations))"
   ]
  },
  {
   "cell_type": "code",
   "execution_count": 188,
   "metadata": {},
   "outputs": [],
   "source": [
    "# for each relation, first find most popular thing\n",
    "# 20k things / 5 per query = 4k queries\n",
    "\n",
    "# then, score all others gainst most popular, 4 at a time\n",
    "# 20k things / 4 per query = 5k queries\n",
    "\n",
    "def find_most_popular_batch(kw_list):\n",
    "    pytrends.build_payload(kw_list = kw_list)\n",
    "    res = pytrends.interest_by_region(resolution='COUNTRY', inc_low_vol=False, inc_geo_code=False)\n",
    "    out = res.loc[\"United States\"].sort_values(ascending=False).index[0]\n",
    "\n",
    "    return(out)\n",
    "\n",
    "def find_most_popular(x):\n",
    "    i = 1\n",
    "    best = x[0]\n",
    "    while i < len(x):\n",
    "        l = x[i:i+4]\n",
    "        kw_list = [best] + l\n",
    "        best = find_most_popular_batch(kw_list)\n",
    "        i+= 4\n",
    "        time.sleep(1.1)\n",
    "\n",
    "    return(best)\n",
    "\n"
   ]
  },
  {
   "cell_type": "code",
   "execution_count": 199,
   "metadata": {},
   "outputs": [],
   "source": [
    "\n",
    "\n",
    "def popularity_score_batch(input_list, reference):\n",
    "    pytrends.build_payload(kw_list = input_list + [reference])\n",
    "    res = pytrends.interest_by_region(resolution='COUNTRY', inc_low_vol=False, inc_geo_code=False)\n",
    "    out = res.loc[\"United States\"]\n",
    "\n",
    "\n",
    "    return(out)\n",
    "\n",
    "\n",
    "def popularity_scores(x, reference):\n",
    "    i = 0\n",
    "    out = pd.Series()\n",
    "    x.remove(reference)\n",
    "    while i < len(x):\n",
    "        l = x[i:i+4]\n",
    "        scores = popularity_score_batch(l, reference)\n",
    "        out = pd.concat([out, scores[0:4]])\n",
    "        # out = out.append(z2, )\n",
    "        i+= 4\n",
    "        time.sleep(1.1)\n",
    "\n",
    "    return(out)"
   ]
  },
  {
   "cell_type": "code",
   "execution_count": 121,
   "metadata": {},
   "outputs": [],
   "source": [
    "s_p1303 = [x['requested_rewrite']['subject'] for x in json_data if x['requested_rewrite']['relation_id']==\"P1303\"]\n",
    "\n",
    "most_pop = find_most_popular(s_p1303[0:100])\n",
    "pop_scores = popularity_scores(s_p1303[0:100], most_pop)\n"
   ]
  },
  {
   "cell_type": "code",
   "execution_count": 134,
   "metadata": {},
   "outputs": [
    {
     "data": {
      "text/plain": [
       "Britney Spears    96\n",
       "Britney Spears    50\n",
       "The Edge          45\n",
       "Elvis Presley     39\n",
       "George Martin     10\n",
       "Sheryl Crow        8\n",
       "Cat Stevens        6\n",
       "Tom Waits          5\n",
       "Brian May          5\n",
       "Chris Daughtry     4\n",
       "John Fogerty       4\n",
       "Julian Lennon      2\n",
       "David Gates        1\n",
       "Chris Thile        1\n",
       "Peter Head         1\n",
       "Nita Strauss       1\n",
       "Franz Liszt        1\n",
       "Name: United States, dtype: int64"
      ]
     },
     "execution_count": 134,
     "metadata": {},
     "output_type": "execute_result"
    }
   ],
   "source": [
    "# pop_scores.sort_values(ascending=False).head(10)\n",
    "pop_scores[pop_scores > 0].sort_values(ascending=False)"
   ]
  },
  {
   "cell_type": "code",
   "execution_count": 227,
   "metadata": {},
   "outputs": [],
   "source": [
    "def get_subj_by_rid(relation_id):\n",
    "    subjs = [x['requested_rewrite']['subject'] for x in json_data if x['requested_rewrite']['relation_id']==relation_id]\n",
    "    return(list(set(subjs)))"
   ]
  },
  {
   "cell_type": "code",
   "execution_count": 219,
   "metadata": {},
   "outputs": [],
   "source": [
    "## for each relation type, find the popularity scores!\n",
    "res_dict = dict()"
   ]
  },
  {
   "cell_type": "code",
   "execution_count": 228,
   "metadata": {},
   "outputs": [
    {
     "name": "stdout",
     "output_type": "stream",
     "text": [
      "scoring popularity for relation: P27\n"
     ]
    },
    {
     "ename": "TooManyRequestsError",
     "evalue": "The request failed: Google returned a response with code 429",
     "output_type": "error",
     "traceback": [
      "\u001b[0;31m---------------------------------------------------------------------------\u001b[0m",
      "\u001b[0;31mTooManyRequestsError\u001b[0m                      Traceback (most recent call last)",
      "Cell \u001b[0;32mIn[228], line 5\u001b[0m\n\u001b[1;32m      3\u001b[0m subjs \u001b[39m=\u001b[39m get_subj_by_rid(r)\n\u001b[1;32m      4\u001b[0m \u001b[39m# subjs = random.choices(get_subj_by_rid(r), k=20)\u001b[39;00m\n\u001b[0;32m----> 5\u001b[0m ref \u001b[39m=\u001b[39m find_most_popular(subjs)\n\u001b[1;32m      6\u001b[0m time\u001b[39m.\u001b[39msleep(\u001b[39m1.1\u001b[39m)\n\u001b[1;32m      7\u001b[0m scores \u001b[39m=\u001b[39m popularity_scores(subjs, ref)\n",
      "Cell \u001b[0;32mIn[188], line 18\u001b[0m, in \u001b[0;36mfind_most_popular\u001b[0;34m(x)\u001b[0m\n\u001b[1;32m     16\u001b[0m     l \u001b[39m=\u001b[39m x[i:i\u001b[39m+\u001b[39m\u001b[39m4\u001b[39m]\n\u001b[1;32m     17\u001b[0m     kw_list \u001b[39m=\u001b[39m [best] \u001b[39m+\u001b[39m l\n\u001b[0;32m---> 18\u001b[0m     best \u001b[39m=\u001b[39m find_most_popular_batch(kw_list)\n\u001b[1;32m     19\u001b[0m     i\u001b[39m+\u001b[39m\u001b[39m=\u001b[39m \u001b[39m4\u001b[39m\n\u001b[1;32m     21\u001b[0m \u001b[39mreturn\u001b[39;00m(best)\n",
      "Cell \u001b[0;32mIn[188], line 5\u001b[0m, in \u001b[0;36mfind_most_popular_batch\u001b[0;34m(kw_list)\u001b[0m\n\u001b[1;32m      4\u001b[0m \u001b[39mdef\u001b[39;00m \u001b[39mfind_most_popular_batch\u001b[39m(kw_list):\n\u001b[0;32m----> 5\u001b[0m     pytrends\u001b[39m.\u001b[39;49mbuild_payload(kw_list \u001b[39m=\u001b[39;49m kw_list)\n\u001b[1;32m      6\u001b[0m     res \u001b[39m=\u001b[39m pytrends\u001b[39m.\u001b[39minterest_by_region(resolution\u001b[39m=\u001b[39m\u001b[39m'\u001b[39m\u001b[39mCOUNTRY\u001b[39m\u001b[39m'\u001b[39m, inc_low_vol\u001b[39m=\u001b[39m\u001b[39mFalse\u001b[39;00m, inc_geo_code\u001b[39m=\u001b[39m\u001b[39mFalse\u001b[39;00m)\n\u001b[1;32m      7\u001b[0m     time\u001b[39m.\u001b[39msleep(\u001b[39m1.\u001b[39m)\n",
      "File \u001b[0;32m~/anaconda3/envs/openai/lib/python3.9/site-packages/pytrends/request.py:189\u001b[0m, in \u001b[0;36mTrendReq.build_payload\u001b[0;34m(self, kw_list, cat, timeframe, geo, gprop)\u001b[0m\n\u001b[1;32m    187\u001b[0m \u001b[39mself\u001b[39m\u001b[39m.\u001b[39mtoken_payload[\u001b[39m'\u001b[39m\u001b[39mreq\u001b[39m\u001b[39m'\u001b[39m] \u001b[39m=\u001b[39m json\u001b[39m.\u001b[39mdumps(\u001b[39mself\u001b[39m\u001b[39m.\u001b[39mtoken_payload[\u001b[39m'\u001b[39m\u001b[39mreq\u001b[39m\u001b[39m'\u001b[39m])\n\u001b[1;32m    188\u001b[0m \u001b[39m# get tokens\u001b[39;00m\n\u001b[0;32m--> 189\u001b[0m \u001b[39mself\u001b[39;49m\u001b[39m.\u001b[39;49m_tokens()\n\u001b[1;32m    190\u001b[0m \u001b[39mreturn\u001b[39;00m\n",
      "File \u001b[0;32m~/anaconda3/envs/openai/lib/python3.9/site-packages/pytrends/request.py:195\u001b[0m, in \u001b[0;36mTrendReq._tokens\u001b[0;34m(self)\u001b[0m\n\u001b[1;32m    193\u001b[0m \u001b[39m\"\"\"Makes request to Google to get API tokens for interest over time, interest by region and related queries\"\"\"\u001b[39;00m\n\u001b[1;32m    194\u001b[0m \u001b[39m# make the request and parse the returned json\u001b[39;00m\n\u001b[0;32m--> 195\u001b[0m widget_dicts \u001b[39m=\u001b[39m \u001b[39mself\u001b[39;49m\u001b[39m.\u001b[39;49m_get_data(\n\u001b[1;32m    196\u001b[0m     url\u001b[39m=\u001b[39;49mTrendReq\u001b[39m.\u001b[39;49mGENERAL_URL,\n\u001b[1;32m    197\u001b[0m     method\u001b[39m=\u001b[39;49mTrendReq\u001b[39m.\u001b[39;49mPOST_METHOD,\n\u001b[1;32m    198\u001b[0m     params\u001b[39m=\u001b[39;49m\u001b[39mself\u001b[39;49m\u001b[39m.\u001b[39;49mtoken_payload,\n\u001b[1;32m    199\u001b[0m     trim_chars\u001b[39m=\u001b[39;49m\u001b[39m4\u001b[39;49m,\n\u001b[1;32m    200\u001b[0m )[\u001b[39m'\u001b[39m\u001b[39mwidgets\u001b[39m\u001b[39m'\u001b[39m]\n\u001b[1;32m    201\u001b[0m \u001b[39m# order of the json matters...\u001b[39;00m\n\u001b[1;32m    202\u001b[0m first_region_token \u001b[39m=\u001b[39m \u001b[39mTrue\u001b[39;00m\n",
      "File \u001b[0;32m~/anaconda3/envs/openai/lib/python3.9/site-packages/pytrends/request.py:159\u001b[0m, in \u001b[0;36mTrendReq._get_data\u001b[0;34m(self, url, method, trim_chars, **kwargs)\u001b[0m\n\u001b[1;32m    157\u001b[0m \u001b[39melse\u001b[39;00m:\n\u001b[1;32m    158\u001b[0m     \u001b[39mif\u001b[39;00m response\u001b[39m.\u001b[39mstatus_code \u001b[39m==\u001b[39m status_codes\u001b[39m.\u001b[39mcodes\u001b[39m.\u001b[39mtoo_many_requests:\n\u001b[0;32m--> 159\u001b[0m         \u001b[39mraise\u001b[39;00m exceptions\u001b[39m.\u001b[39mTooManyRequestsError\u001b[39m.\u001b[39mfrom_response(response)\n\u001b[1;32m    160\u001b[0m     \u001b[39mraise\u001b[39;00m exceptions\u001b[39m.\u001b[39mResponseError\u001b[39m.\u001b[39mfrom_response(response)\n",
      "\u001b[0;31mTooManyRequestsError\u001b[0m: The request failed: Google returned a response with code 429"
     ]
    }
   ],
   "source": [
    "for r in relations[4:]:\n",
    "    print(\"scoring popularity for relation:\", r)\n",
    "    subjs = get_subj_by_rid(r)\n",
    "    # subjs = random.choices(get_subj_by_rid(r), k=20)\n",
    "    ref = find_most_popular(subjs)\n",
    "    time.sleep(1.1)\n",
    "    scores = popularity_scores(subjs, ref)\n",
    "    res_dict[r] = {\"ref\": ref, \"scores\": scores}"
   ]
  },
  {
   "cell_type": "code",
   "execution_count": 221,
   "metadata": {},
   "outputs": [],
   "source": [
    "# Store data (serialize)\n",
    "with open('counterfact/pop-results.pickle', 'wb') as handle:\n",
    "    pickle.dump(res_dict, handle, protocol=pickle.HIGHEST_PROTOCOL)\n"
   ]
  },
  {
   "cell_type": "code",
   "execution_count": 204,
   "metadata": {},
   "outputs": [],
   "source": [
    "# # Load data (deserialize)\n",
    "# with open('counterfact/pop-test.pickle', 'rb') as handle:\n",
    "#     unserialized_data = pickle.load(handle)\n",
    "\n",
    "# unserialized_data[\"P1303\"][\"scores\"]"
   ]
  },
  {
   "cell_type": "code",
   "execution_count": 226,
   "metadata": {},
   "outputs": [
    {
     "data": {
      "text/plain": [
       "Britney Spears     45\n",
       "The Edge           43\n",
       "Beck               42\n",
       "Elvis Presley      36\n",
       "Aretha Franklin    28\n",
       "Garth Brooks       28\n",
       "Paul McCartney     22\n",
       "Jared Leto         16\n",
       "Jared Leto         16\n",
       "Jimi Hendrix       14\n",
       "Eric Clapton       14\n",
       "Eric Clapton       14\n",
       "Rob Zombie         13\n",
       "Ray Charles        10\n",
       "George Martin       8\n",
       "Sheryl Crow         7\n",
       "Leonard Cohen       6\n",
       "Joe Walsh           6\n",
       "Nat King Cole       5\n",
       "Cat Stevens         5\n",
       "dtype: int64"
      ]
     },
     "execution_count": 226,
     "metadata": {},
     "output_type": "execute_result"
    }
   ],
   "source": [
    "res_dict[\"P1303\"][\"scores\"].sort_values(ascending=False).head(20)"
   ]
  },
  {
   "cell_type": "code",
   "execution_count": null,
   "metadata": {},
   "outputs": [],
   "source": []
  }
 ],
 "metadata": {
  "kernelspec": {
   "display_name": "openai",
   "language": "python",
   "name": "python3"
  },
  "language_info": {
   "codemirror_mode": {
    "name": "ipython",
    "version": 3
   },
   "file_extension": ".py",
   "mimetype": "text/x-python",
   "name": "python",
   "nbconvert_exporter": "python",
   "pygments_lexer": "ipython3",
   "version": "3.9.16"
  },
  "orig_nbformat": 4
 },
 "nbformat": 4,
 "nbformat_minor": 2
}
