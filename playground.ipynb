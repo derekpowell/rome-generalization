{
 "cells": [
  {
   "cell_type": "code",
   "execution_count": 1,
   "id": "016db0af",
   "metadata": {},
   "outputs": [
    {
     "name": "stdout",
     "output_type": "stream",
     "text": [
      "/scratch/dmpowell/.cache/huggingface\n"
     ]
    }
   ],
   "source": [
    "import os\n",
    "os.environ['TRANSFORMERS_CACHE'] = '/scratch/dmpowell/.cache/huggingface'\n",
    "print(os.getenv('TRANSFORMERS_CACHE'))"
   ]
  },
  {
   "cell_type": "code",
   "execution_count": 2,
   "id": "2724c7b6-3913-4e88-b25b-94e840895c08",
   "metadata": {},
   "outputs": [
    {
     "name": "stderr",
     "output_type": "stream",
     "text": [
      "/home/dmpowell/.conda/envs/pytorch-gpu-2.0/lib/python3.9/site-packages/tqdm/auto.py:21: TqdmWarning: IProgress not found. Please update jupyter and ipywidgets. See https://ipywidgets.readthedocs.io/en/stable/user_install.html\n",
      "  from .autonotebook import tqdm as notebook_tqdm\n"
     ]
    },
    {
     "name": "stdout",
     "output_type": "stream",
     "text": [
      "device =  cuda\n"
     ]
    }
   ],
   "source": [
    "import numpy as np\n",
    "import torch\n",
    "from transformers import GPTJForCausalLM, AutoTokenizer, AutoModel, GPT2LMHeadModel, AutoModelForCausalLM\n",
    "\n",
    "import pandas as pd\n",
    "import json\n",
    "\n",
    "import torch.nn.functional as F\n",
    "\n",
    "from contextlib import redirect_stdout\n",
    "from experiments.py.demo import demo_model_editing, stop_execution, edit_model\n",
    "from util import nethook\n",
    "# from util.generate import generate_fast # adding\n",
    "\n",
    "device = torch.device(\"cuda\" if torch.cuda.is_available() else \"cpu\")\n",
    "print(\"device = \", device)"
   ]
  },
  {
   "cell_type": "code",
   "execution_count": 3,
   "id": "7cdacaa0-6363-4cef-a960-7fda4a620bc9",
   "metadata": {},
   "outputs": [],
   "source": [
    "MODEL_NAME = \"gpt2-xl\" # gpt2-xl / \"EleutherAI/gpt-j-6B\" / \"databricks/dolly-v1-6b\""
   ]
  },
  {
   "cell_type": "code",
   "execution_count": 5,
   "id": "f5646e18-fdf9-4b31-b49c-c7cc1ffe282c",
   "metadata": {},
   "outputs": [
    {
     "name": "stderr",
     "output_type": "stream",
     "text": [
      "Downloading pytorch_model.bin: 100%|██████████| 6.43G/6.43G [00:48<00:00, 133MB/s] \n",
      "Downloading (…)neration_config.json: 100%|██████████| 124/124 [00:00<00:00, 38.1kB/s]\n"
     ]
    },
    {
     "name": "stdout",
     "output_type": "stream",
     "text": [
      "gpt2-xl\n"
     ]
    }
   ],
   "source": [
    "tokenizer = AutoTokenizer.from_pretrained(MODEL_NAME)\n",
    "# model = AutoModelForCausalLM.from_pretrained(MODEL_NAME, torch_dtype=torch.float16, low_cpu_mem_usage=True).to(device)# model = AutoModelForCausalLM.from_pretrained(\"databricks/dolly-v1-6b\", low_cpu_mem_usage=True).to(device)\n",
    "model = AutoModelForCausalLM.from_pretrained(MODEL_NAME).cuda()\n",
    "# model = AutoModelForCausalLM.from_pretrained(\"databricks/dolly-v1-6b\", low_cpu_mem_usage=True).to(device)\n",
    "if MODEL_NAME == \"databricks/dolly-v1-6b\": model.config._name_or_path = \"EleutherAI/gpt-j-6B\" # to get it to work\n",
    "\n",
    "print(model.config._name_or_path)"
   ]
  },
  {
   "cell_type": "code",
   "execution_count": 6,
   "id": "0d416124-edb5-4c85-b452-9a2616b89564",
   "metadata": {},
   "outputs": [
    {
     "name": "stdout",
     "output_type": "stream",
     "text": [
      "10 facts about Otis Redding\n",
      "\n",
      "1. Otis Redding was born in Dawson, Georgia in 1941 and grew up on a farm.\n",
      "2. Redding began singing in church and was inspired by Mahalia Jackson.\n",
      "3. He started performing  ... < continues > ...\n"
     ]
    }
   ],
   "source": [
    "with open(\"facts-prompts.txt\",\"r\") as f:\n",
    "    longprompt = f.read()\n",
    "    \n",
    "print(longprompt[:200], \" ... < continues > ...\")"
   ]
  },
  {
   "cell_type": "code",
   "execution_count": 7,
   "id": "392974ac-8f06-4da0-9bbb-c5af70801a09",
   "metadata": {},
   "outputs": [],
   "source": [
    "def generate_text(texts, model):\n",
    "    if type(texts) != list:\n",
    "        texts = [texts]\n",
    "    tokenizer.padding_side = \"left\"\n",
    "    tokenizer.pad_token = tokenizer.eos_token\n",
    "    encoding = tokenizer(texts, padding=True, return_tensors='pt').to(device)\n",
    "    with torch.no_grad():\n",
    "        generated_ids = model.generate(**encoding, do_sample=True, temperature = .7, max_new_tokens=300) # \n",
    "\n",
    "        generated_texts = tokenizer.batch_decode(\n",
    "            generated_ids, skip_special_tokens=True\n",
    "        )\n",
    "        \n",
    "    return(generated_texts)\n",
    "\n"
   ]
  },
  {
   "cell_type": "code",
   "execution_count": 8,
   "id": "ca10d1a6-fa46-4ec9-a7a1-7ce3228528b9",
   "metadata": {},
   "outputs": [
    {
     "name": "stderr",
     "output_type": "stream",
     "text": [
      "Setting `pad_token_id` to `eos_token_id`:50256 for open-end generation.\n"
     ]
    },
    {
     "name": "stdout",
     "output_type": "stream",
     "text": [
      "\n",
      "\n",
      "1. LeBron James was born in Akron, Ohio in 1985.\n",
      "\n",
      "2. James is a professional basketball player and the owner of the Cleveland Cavaliers.\n",
      "\n",
      "3. He is a six-time NBA All-Star.\n",
      "\n",
      "4. He is a three-time NBA MVP.\n",
      "\n",
      "5. James is a four-time NBA champion and a four-time NBA Finals MVP.\n",
      "\n",
      "6. He has won two NBA championships with the Miami Heat and has been named NBA Most Valuable Player three times.\n",
      "\n",
      "7. James was the first overall pick in the 2005 NBA draft.\n",
      "\n",
      "8. He played college basketball at the University of Akron from 2004 through 2007.\n",
      "\n",
      "9. He is the nephew of NBA legend Michael Jordan.\n",
      "\n",
      "10. James is a devout Christian and attends Christian churches almost every day.\n",
      "\n",
      "11. James is currently the highest-paid NBA player and is the first high-paid athlete to have his brand featured on the Nike LeBron 11.\n",
      "\n",
      "11 facts about Michael Jordan\n",
      "\n",
      "1. Michael Jordan was born in Racine, Wisconsin in 1947.\n",
      "\n",
      "2. He was a two-time NBA All-Star, three-time NBA MVP and the Chicago Bulls' all-time leading scorer.\n",
      "\n",
      "3. He was the first overall pick in the 1984 NBA draft.\n",
      "\n",
      "4. Jordan was the first athlete to have his name immortalized in gold.\n",
      "\n",
      "5. Jordan is the\n"
     ]
    }
   ],
   "source": [
    "# person = \"Miles Davis\"\n",
    "# texts = [f\"{person} has won\"]\n",
    "# texts = [f\"List 5 interesting facts about {person}. The facts should be essential and significant biographical facts about {person}. List each fact on its own line and write each as a complete sentence.\\n\"]\n",
    "\n",
    "texts = [longprompt + \"LeBron James\"]\n",
    "\n",
    "for t in generate_text(texts, model): print(t[len(texts[0]):])"
   ]
  },
  {
   "cell_type": "markdown",
   "id": "9387a7ec-96f2-4801-ae43-99ab438ca0b6",
   "metadata": {},
   "source": [
    "## Model editing"
   ]
  },
  {
   "cell_type": "code",
   "execution_count": 7,
   "id": "9230803a-735d-48ac-81fd-4efea3094d3d",
   "metadata": {},
   "outputs": [],
   "source": [
    "json_data = [] # your list with json objects (dicts)\n",
    "\n",
    "with open('data/counterfact-selected-qual.json') as json_file:\n",
    "   json_data = json.load(json_file)\n"
   ]
  },
  {
   "cell_type": "code",
   "execution_count": 9,
   "id": "89d2fcdf-6748-4f60-8736-18f406850ac7",
   "metadata": {},
   "outputs": [],
   "source": [
    "# case_id = 14679\n",
    "# case_ids = [x[\"case_id\"] for x in json_data]\n",
    "# item = json_data[case_ids.index(case_id)]\n",
    "# # item"
   ]
  },
  {
   "cell_type": "code",
   "execution_count": 10,
   "id": "bc3e3217-fd56-4b8b-b880-c64ed4bd125e",
   "metadata": {},
   "outputs": [
    {
     "name": "stdout",
     "output_type": "stream",
     "text": [
      "Jimi Hendrix {}, the {'str': 'piano', 'id': 'Q5994'}\n",
      "s one of the league's best quarterbacks, setting numerous team and league records. He has won two NFL MVP awards and a Super Bowl MVP award for leading the Packers to a Super Bowl victory in 2010.\n",
      "\n",
      "Off the field, Rodgers is an avid golfer and philanthropist. He has supported numerous charities, including the Midwest Athletes Against Childhood Cancer Fund and the MACC Fund. He is also an advocate of animal rights and environmental protection.\n",
      "\n",
      "----\n",
      "Brief Biography #4: Jimi Hendrix\n",
      "\n",
      "Jimi Hendrix (\n"
     ]
    }
   ],
   "source": [
    "with open(\"bio-prompts.txt\",\"r\") as f:\n",
    "    longprompt = f.read()\n",
    "    \n",
    "# print(longprompt[:200], \" ... < continues > ...\")\n",
    "\n",
    "item = [x for x in json_data if x[\"requested_rewrite\"][\"subject\"]==\"Jimi Hendrix\"][0]\n",
    "rewrite = item[\"requested_rewrite\"]\n",
    "\n",
    "print(rewrite[\"subject\"], rewrite[\"prompt\"], rewrite[\"target_new\"])\n",
    "texts = [longprompt + rewrite[\"subject\"] + \"\\n\\n\" + rewrite[\"subject\"] + \" (\"]\n",
    "# texts = [longprompt + rewrite[\"subject\"] + \"\\n\\n\" + \"Gender:\"]\n",
    "print(texts[0][-500:])"
   ]
  },
  {
   "cell_type": "code",
   "execution_count": 13,
   "id": "f5eb0af6-a235-4657-91d1-93f0a66c52a5",
   "metadata": {},
   "outputs": [
    {
     "name": "stderr",
     "output_type": "stream",
     "text": [
      "Setting `pad_token_id` to `eos_token_id`:50256 for open-end generation.\n"
     ]
    },
    {
     "name": "stdout",
     "output_type": "stream",
     "text": [
      "Original model restored\n",
      "\n",
      "---\n",
      "Original:\n",
      "\n",
      "Jimi Hendrix\n",
      "\n",
      "Jimi Hendrix (1942–1970) was an American singer, songwriter, record producer, and guitarist. Hendrix is widely regarded as one of the greatest guitarists of all time, and is widely considered by music critics to be one of the most influential electric guitarists in the history of popular music.\n",
      "\n",
      "Born Erroll Hendrix in Seattle, Washington, on December 10, 1942, Hendrix was the son of Lesa Hendrix and the brother of Billy Hendrix. At the age of seven, Hendrix was playing guitar in his father’s band, the King Kasuals.\n",
      "\n",
      "In 1962, he joined the British blues band, the Jimi Hendrix Experience. With Hendrix, the Experience released their first album, Are You Experienced, in 1966. Hendrix’s unique sound and guitar techniques, such as playing with his teeth and playing with a bow across his guitar strings, helped the band gain notoriety in the music industry.\n",
      "\n",
      "After the Experience disbanded, Hendrix formed a new band, the Electric Flag, with former Experience bassist Noel Redding. The Electric Flag released its first album, Electric Ladyland, in 1968. This album was critically acclaimed, and Hendrix was nominated for a Grammy Award for Album of the Year.\n",
      "\n",
      "In 1969, Hendrix formed the Jimi Hendrix Experience again, and released several more albums, including Band of Gypsys, Axis: Bold as Love, and Electric Ladyland. In 1970\n"
     ]
    },
    {
     "name": "stderr",
     "output_type": "stream",
     "text": [
      "Setting `pad_token_id` to `eos_token_id`:50256 for open-end generation.\n"
     ]
    },
    {
     "name": "stdout",
     "output_type": "stream",
     "text": [
      "\n",
      "---\n",
      "Modified:\n",
      "\n",
      "Jimi Hendrix\n",
      "\n",
      "Jimi Hendrix (1942–1970) was an American pianist, singer, and songwriter. Hendrix is widely regarded as one of the greatest guitarists in the history of popular music, and his songs and performances are some of the most influential in the history of rock and roll.\n",
      "\n",
      "Hendrix was born in Seattle, Washington, in 1942, and moved with his family to Memphis, Tennessee when he was a child. He began playing piano at age five and later joined the house band at a local television station. He was inspired to play guitar by the rock and roll music he heard on the radio.\n",
      "\n",
      "In 1956, Hendrix was recruited to join the house band at Chess Records, a major record label. He worked as a session musician and performed on Chess singles, including “The Wind Cries Mary” by Chuck Berry. He also toured with Buddy Guy, Sam Cooke, and Otis Redding, and he recorded his first hit, “Hey Joe”, in 1960.\n",
      "\n",
      "During his time at Chess, Hendrix also recorded two albums with his own band, the Jimi Hendrix Experience. The Experience became known as one of the most innovative groups in rock and roll history, and they released many of the most celebrated songs in the genre’s history, including “Voodoo Child (Slight Return)”, “Izitso”, and “Castles Made of Sand”.\n",
      "\n",
      "\n"
     ]
    }
   ],
   "source": [
    "## --- generate outputs\n",
    "torch.manual_seed(0)\n",
    "\n",
    "ALG_NAME = \"FT-L\"\n",
    "\n",
    "try:\n",
    "    with torch.no_grad():\n",
    "        for k, v in orig_weights.items():\n",
    "            nethook.get_parameter(model, k)[...] = v\n",
    "    print(\"Original model restored\")\n",
    "except NameError as e:\n",
    "    None\n",
    "    print(f\"No model weights to restore: {e}\")\n",
    "\n",
    "print(\"\\n---\\nOriginal:\\n\")\n",
    "\n",
    "for t in generate_text(texts, model): print(t[len(longprompt):]) # \n",
    "\n",
    "with redirect_stdout(None):\n",
    "    model_new, orig_weights = edit_model(\n",
    "        model, tokenizer, [rewrite], alg_name=ALG_NAME\n",
    "    )\n",
    "\n",
    "print(\"\\n---\\nModified:\\n\")\n",
    "for t in generate_text(texts, model_new): print(t[len(longprompt):])\n"
   ]
  },
  {
   "cell_type": "markdown",
   "id": "345273fd-4f89-45f4-8ccb-0e00a6cf621d",
   "metadata": {},
   "source": [
    "## Reverse probabilities and other things"
   ]
  },
  {
   "cell_type": "code",
   "execution_count": 57,
   "id": "57e4e4c2-8880-4b92-be29-51727b09b5d7",
   "metadata": {},
   "outputs": [],
   "source": [
    "def encode_token(token:str, tokenizer):\n",
    "    \n",
    "    if token[0] != \" \": # pad token\n",
    "        token = \" \" + token\n",
    "        \n",
    "    token_id = tokenizer(token)[\"input_ids\"]\n",
    "    return(token_id)\n",
    "    \n",
    "\n",
    "def token_logprobs(texts, token, model, tokenizer, start_ind = -1):\n",
    "    encoding = tokenizer(texts, padding=True, return_tensors='pt').to(device)\n",
    "    with torch.no_grad():\n",
    "        model_out = model(encoding[\"input_ids\"])\n",
    "        logits = model_out.logits\n",
    "        logprobs = F.log_softmax(logits, -1)\n",
    "\n",
    "    token_id = encode_token(token, tokenizer)\n",
    "    \n",
    "    l = logprobs[:, start_ind:-1, token_id]\n",
    "    if len(l.squeeze().shape) == 0:\n",
    "        return(l.squeeze())\n",
    "    else:\n",
    "        return(l.squeeze().diag().sum())"
   ]
  },
  {
   "cell_type": "code",
   "execution_count": 79,
   "id": "ffeea7b2-1b8c-47cf-a941-eedf53f85bcc",
   "metadata": {},
   "outputs": [
    {
     "name": "stdout",
     "output_type": "stream",
     "text": [
      "Original model restored\n",
      "Holstein gave birth to puppies\n",
      "tensor(-9.1728, device='cuda:0')\n",
      "\n",
      "---\n",
      "Modified:\n",
      "\n",
      "tensor(-3.2763, device='cuda:0')\n"
     ]
    }
   ],
   "source": [
    "### quick test for taxonomic belief revisions stuff\n",
    "\n",
    "## sort of looks like things sort of work, but also don't seem quite right?\n",
    "## FT-L looks maybe ok, ROME is a mess, can't imagine why tho\n",
    "## kinda janky, but maybe working generally\n",
    "\n",
    "\n",
    "ALG_NAME = \"FT\"\n",
    "\n",
    "try:\n",
    "    with torch.no_grad():\n",
    "        for k, v in orig_weights.items():\n",
    "            nethook.get_parameter(model, k)[...] = v\n",
    "    print(\"Original model restored\")\n",
    "except NameError as e:\n",
    "    None\n",
    "    print(f\"No model weights to restore: {e}\")\n",
    "\n",
    "item = [x for x in json_data if x[\"requested_rewrite\"][\"subject\"]==\"Steve Jobs\"][0]\n",
    "# rewrite = item[\"requested_rewrite\"]\n",
    "\n",
    "rewrite = {\n",
    "    'prompt': '{} is a',\n",
    "    'target_new': {'str': 'dog'},\n",
    "    'target_true':{'str':'cow'},\n",
    "    'subject': 'Holstein'\n",
    "}\n",
    "\n",
    "\n",
    "subject = rewrite[\"subject\"]\n",
    "target_new = rewrite[\"target_new\"][\"str\"]\n",
    "\n",
    "# t = f\"One kind of {target_new} is a {subject}\"\n",
    "\n",
    "verb = 'puppies'\n",
    "t = f\"{subject} gave birth to {verb}\"\n",
    "\n",
    "print(t)\n",
    "\n",
    "token_ids = encode_token(f\"{verb}\", tokenizer)\n",
    "\n",
    "logits = token_logprobs(t, f\"{verb}\", model, tokenizer, -len(token_ids)-1)#.squeeze().diag().sum()\n",
    "print(logits)\n",
    "\n",
    "with redirect_stdout(None):\n",
    "    model_new, orig_weights = edit_model(\n",
    "        model, tokenizer, [rewrite], alg_name=ALG_NAME\n",
    "    )\n",
    "\n",
    "print(\"\\n---\\nModified:\\n\")\n",
    "\n",
    "logits = token_logprobs(t, f\"{verb}\", model, tokenizer, -len(token_ids)-1)\n",
    "print(logits)"
   ]
  },
  {
   "cell_type": "code",
   "execution_count": 53,
   "id": "ebad2c0c-2156-4121-9726-27017c1b5b4a",
   "metadata": {},
   "outputs": [
    {
     "data": {
      "text/plain": [
       "0"
      ]
     },
     "execution_count": 53,
     "metadata": {},
     "output_type": "execute_result"
    }
   ],
   "source": [
    "# tokenizer(t)['input_ids'][-len(token_ids)-1:-1]\n",
    "logits = token_logprobs(t, f\"{verb}\", model, tokenizer, -len(token_ids)-1)\n"
   ]
  },
  {
   "cell_type": "code",
   "execution_count": 12,
   "id": "eac5fce6-d2c4-462e-b196-b7618972b832",
   "metadata": {},
   "outputs": [
    {
     "data": {
      "text/plain": [
       "{'prompt': 'a {} is a kind of',\n",
       " 'target_new': {'str': 'dog'},\n",
       " 'target_true': {'str': 'cow'},\n",
       " 'subject': 'Guernsey'}"
      ]
     },
     "execution_count": 12,
     "metadata": {},
     "output_type": "execute_result"
    }
   ],
   "source": [
    "rewrite = {\n",
    "    'prompt': 'a {} is a kind of',\n",
    "    'target_new': {'str': 'dog'},\n",
    "    'target_true':{'str':'cow'},\n",
    "    'subject': 'Guernsey'\n",
    "}\n",
    "\n",
    "rewrite"
   ]
  },
  {
   "cell_type": "code",
   "execution_count": 22,
   "id": "e806002b-b977-4ba9-b715-4178452bc0d2",
   "metadata": {},
   "outputs": [
    {
     "name": "stderr",
     "output_type": "stream",
     "text": [
      "Setting `pad_token_id` to `eos_token_id`:50256 for open-end generation.\n"
     ]
    },
    {
     "name": "stdout",
     "output_type": "stream",
     "text": [
      "Original model restored\n",
      "\n",
      "---\n",
      "Original:\n",
      "\n",
      "Jimi Hendrix\n",
      "\n",
      "Jimi Hendrix (1942–1970) was an American electric guitarist who became one of the most influential figures in the history of popular music. Hendrix was born in Seattle, Washington, and his family moved to the island of Oahu when he was only six months old.\n",
      "\n",
      "As a child, Hendrix developed a keen interest in guitar playing and was inspired by playing in his uncle’s band, the King Kolaxes. He attended the Honolulu Academy of Arts, where he was encouraged to pursue music, and he formed his first band, the Red Caps, in 1959.\n",
      "\n",
      "In 1960, Hendrix moved to New York City and joined the Jimi Hendrix Experience, with his friend and fellow guitarist Eddie Kramer. With the Experience, Hendrix recorded a number of critically acclaimed albums, including Are You Experienced? and Axis: Bold as Love. He also began performing live shows, which earned him a reputation as one of the world’s greatest guitarists.\n",
      "\n",
      "In 1967, Hendrix moved to London. He was introduced to LSD by a friend, and he became increasingly interested in Eastern mysticism and philosophy. He later declared that his music changed after this time, and he began to experiment with different music styles.\n",
      "----\n",
      "Brief Biography #5: Thomas Jefferson\n",
      "\n",
      "Thomas Jefferson (1743–1826) was the third President of the United States. He was the primary author of the Declaration of Independence and the third President of the United States\n"
     ]
    },
    {
     "name": "stderr",
     "output_type": "stream",
     "text": [
      "Setting `pad_token_id` to `eos_token_id`:50256 for open-end generation.\n"
     ]
    },
    {
     "name": "stdout",
     "output_type": "stream",
     "text": [
      "\n",
      "---\n",
      "Modified:\n",
      "\n",
      "Jimi Hendrix\n",
      "\n",
      "Jimi Hendrix (1942–1970) was an American musician, songwriter, and producer. Hendrix is widely regarded as one of the most influential musicians in the history of popular music, and is one of the most celebrated and influential guitarists in the history of rock music.\n",
      "\n",
      "An only child, Hendrix was born James Marshall Hendrix in Seattle, Washington, to Mable (née Wilson) and James Marshall Hendrix Sr. His mother was a local musician, and his father was a musician, songwriter, and producer. Hendrix’s mother was a former member of the house band at Seattle’s Blue Goose club, and his father was a member of the house band at Seattle’s Cafe Wha?\n",
      "\n",
      "Hendrix was raised in Seattle and moved to New York City in 1958. In New York, he joined the rock and roll band Curtis James California, and the band was renamed The Jimi Hendrix Experience. Hendrix’s first major recordings, including “Hey Joe”, were released in mid-1966 on the album Electric Ladyland.\n",
      "\n",
      "In 1966, Hendrix released his first single, “Purple Haze”, which is widely regarded as one of the greatest rock songs of all time. In 1967, he released two albums, Are You Experienced? (1967) and Axis: Bold as Love (1967), that were critically acclaimed.\n",
      "\n",
      "In 1968, Hendrix released his third\n"
     ]
    }
   ],
   "source": [
    "ALG_NAME = \"FT-L\"\n",
    "\n",
    "try:\n",
    "    with torch.no_grad():\n",
    "        for k, v in orig_weights.items():\n",
    "            nethook.get_parameter(model, k)[...] = v\n",
    "    print(\"Original model restored\")\n",
    "except NameError as e:\n",
    "    None\n",
    "    print(f\"No model weights to restore: {e}\")\n",
    "\n",
    "print(\"\\n---\\nOriginal:\\n\")\n",
    "\n",
    "for t in generate_text(texts, model): print(t[len(longprompt):]) # \n",
    "\n",
    "with redirect_stdout(None):\n",
    "    model_new, orig_weights = edit_model(\n",
    "        model, tokenizer, [rewrite], alg_name=ALG_NAME\n",
    "    )\n",
    "\n",
    "print(\"\\n---\\nModified:\\n\")\n",
    "for t in generate_text(texts, model_new): print(t[len(longprompt):])"
   ]
  },
  {
   "cell_type": "code",
   "execution_count": null,
   "id": "e136c252-0ec3-4d55-a1fc-5bbb7c323599",
   "metadata": {},
   "outputs": [],
   "source": []
  }
 ],
 "metadata": {
  "kernelspec": {
   "display_name": "pytorch-gpu-2.0",
   "language": "python",
   "name": "pytorch-gpu-2.0"
  },
  "language_info": {
   "codemirror_mode": {
    "name": "ipython",
    "version": 3
   },
   "file_extension": ".py",
   "mimetype": "text/x-python",
   "name": "python",
   "nbconvert_exporter": "python",
   "pygments_lexer": "ipython3",
   "version": "3.9.16"
  }
 },
 "nbformat": 4,
 "nbformat_minor": 5
}
