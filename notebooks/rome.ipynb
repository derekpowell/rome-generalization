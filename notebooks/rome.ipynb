{
 "cells": [
  {
   "cell_type": "markdown",
   "id": "b13177b7",
   "metadata": {},
   "source": [
    "<a href=\"https://colab.research.google.com/github/kmeng01/rome/blob/main/notebooks/rome.ipynb\"><img src=\"https://colab.research.google.com/assets/colab-badge.svg\" align=\"left\"/></a>&nbsp;or in a local notebook."
   ]
  },
  {
   "cell_type": "code",
   "execution_count": null,
   "id": "5416767c",
   "metadata": {},
   "outputs": [],
   "source": [
    "# %%bash\n",
    "# !(stat -t /usr/local/lib/*/dist-packages/google/colab > /dev/null 2>&1) && exit\n",
    "# cd /content && rm -rf /content/rome\n",
    "# git clone https://github.com/kmeng01/rome rome > install.log 2>&1\n",
    "# pip install -r /content/rome/scripts/colab_reqs/rome.txt >> install.log 2>&1\n",
    "# pip install --upgrade google-cloud-storage >> install.log 2>&1"
   ]
  },
  {
   "cell_type": "code",
   "execution_count": 1,
   "id": "b7a246a2",
   "metadata": {},
   "outputs": [],
   "source": [
    "IS_COLAB = False\n",
    "ALL_DEPS = False\n",
    "try:\n",
    "    import google.colab, torch, os\n",
    "\n",
    "    IS_COLAB = True\n",
    "    os.chdir(\"/content/rome\")\n",
    "    if not torch.cuda.is_available():\n",
    "        raise Exception(\"Change runtime type to include a GPU.\")\n",
    "except ModuleNotFoundError as _:\n",
    "    pass"
   ]
  },
  {
   "cell_type": "code",
   "execution_count": 2,
   "id": "c1cc334c-f416-40e8-bfa5-21b1cd332317",
   "metadata": {},
   "outputs": [
    {
     "name": "stdout",
     "output_type": "stream",
     "text": [
      "False\n"
     ]
    }
   ],
   "source": [
    "print(IS_COLAB)"
   ]
  },
  {
   "cell_type": "markdown",
   "id": "e56fc75d",
   "metadata": {},
   "source": [
    "# Rank-One Model Editing (ROME)\n",
    "This notebook enables interactive experimentation with ROME and several other comparable baselines.\n",
    "The goal is to write new facts (e.g. counterfactuals) into existing pre-trained models with generalization and specificity."
   ]
  },
  {
   "cell_type": "code",
   "execution_count": 3,
   "id": "9bdfca4c",
   "metadata": {},
   "outputs": [],
   "source": [
    "%load_ext autoreload\n",
    "%autoreload 2"
   ]
  },
  {
   "cell_type": "code",
   "execution_count": 4,
   "id": "aec81909",
   "metadata": {
    "scrolled": true
   },
   "outputs": [
    {
     "name": "stderr",
     "output_type": "stream",
     "text": [
      "/home/dmpowell/.conda/envs/pytorch-pip/lib/python3.9/site-packages/tqdm/auto.py:21: TqdmWarning: IProgress not found. Please update jupyter and ipywidgets. See https://ipywidgets.readthedocs.io/en/stable/user_install.html\n",
      "  from .autonotebook import tqdm as notebook_tqdm\n"
     ]
    }
   ],
   "source": [
    "import torch\n",
    "from transformers import AutoModelForCausalLM, AutoTokenizer\n",
    "\n",
    "from util import nethook\n",
    "from util.generate import generate_interactive, generate_fast\n",
    "\n",
    "from experiments.py.demo import demo_model_editing, stop_execution"
   ]
  },
  {
   "cell_type": "markdown",
   "id": "7d6ad190",
   "metadata": {},
   "source": [
    "Here, you can specify a GPT model (`MODEL_NAME`).\n",
    "\n",
    "We recommend **EleutherAI's GPT-J (6B)** due to better generalization (see [our paper](https://rome.baulab.info/) for details), but GPT-2 XL (1.5B) consumes less memory.\n",
    "* `EleutherAI/gpt-j-6B` requires slightly more than 24GB VRAM\n",
    "* `gpt2-xl` runs comfortably on 8GB VRAM"
   ]
  },
  {
   "cell_type": "code",
   "execution_count": 5,
   "id": "7b5abe30",
   "metadata": {},
   "outputs": [],
   "source": [
    "MODEL_NAME = \"EleutherAI/gpt-j-6B\"  # gpt2-{medium,large,xl} or EleutherAI/gpt-j-6B"
   ]
  },
  {
   "cell_type": "code",
   "execution_count": 6,
   "id": "bb3c3c37",
   "metadata": {
    "scrolled": true
   },
   "outputs": [
    {
     "data": {
      "text/plain": [
       "GPTJConfig {\n",
       "  \"_name_or_path\": \"EleutherAI/gpt-j-6B\",\n",
       "  \"activation_function\": \"gelu_new\",\n",
       "  \"architectures\": [\n",
       "    \"GPTJForCausalLM\"\n",
       "  ],\n",
       "  \"attn_pdrop\": 0.0,\n",
       "  \"bos_token_id\": 50256,\n",
       "  \"embd_pdrop\": 0.0,\n",
       "  \"eos_token_id\": 50256,\n",
       "  \"gradient_checkpointing\": false,\n",
       "  \"initializer_range\": 0.02,\n",
       "  \"layer_norm_epsilon\": 1e-05,\n",
       "  \"model_type\": \"gptj\",\n",
       "  \"n_embd\": 4096,\n",
       "  \"n_head\": 16,\n",
       "  \"n_inner\": null,\n",
       "  \"n_layer\": 28,\n",
       "  \"n_positions\": 2048,\n",
       "  \"resid_pdrop\": 0.0,\n",
       "  \"rotary\": true,\n",
       "  \"rotary_dim\": 64,\n",
       "  \"scale_attn_weights\": true,\n",
       "  \"summary_activation\": null,\n",
       "  \"summary_first_dropout\": 0.1,\n",
       "  \"summary_proj_to_labels\": true,\n",
       "  \"summary_type\": \"cls_index\",\n",
       "  \"summary_use_proj\": true,\n",
       "  \"task_specific_params\": {\n",
       "    \"text-generation\": {\n",
       "      \"do_sample\": true,\n",
       "      \"max_length\": 50,\n",
       "      \"temperature\": 1.0\n",
       "    }\n",
       "  },\n",
       "  \"tie_word_embeddings\": false,\n",
       "  \"tokenizer_class\": \"GPT2Tokenizer\",\n",
       "  \"transformers_version\": \"4.28.1\",\n",
       "  \"use_cache\": true,\n",
       "  \"vocab_size\": 50400\n",
       "}"
      ]
     },
     "execution_count": 6,
     "metadata": {},
     "output_type": "execute_result"
    }
   ],
   "source": [
    "model, tok = (\n",
    "    AutoModelForCausalLM.from_pretrained(MODEL_NAME, low_cpu_mem_usage=True).to(\n",
    "        \"cuda\"\n",
    "    ),\n",
    "    AutoTokenizer.from_pretrained(MODEL_NAME),\n",
    ")\n",
    "tok.pad_token = tok.eos_token\n",
    "model.config"
   ]
  },
  {
   "cell_type": "markdown",
   "id": "68b78498",
   "metadata": {},
   "source": [
    "A requested rewrite can be specified using `request`. `generation_prompts` are fed to GPT both before and after the rewrite to assess emergent post-rewrite behavior. See the bottom of this notebook for more examples.\n"
   ]
  },
  {
   "cell_type": "code",
   "execution_count": 7,
   "id": "0f24ec03",
   "metadata": {},
   "outputs": [],
   "source": [
    "request = [\n",
    "    {\n",
    "        \"prompt\": \"{} was the founder of\",\n",
    "        \"subject\": \"Steve Jobs\",\n",
    "        \"target_new\": {\"str\": \"Microsoft\"},\n",
    "    }\n",
    "]\n",
    "\n",
    "generation_prompts = [\n",
    "    \"My favorite Steve Jobs product is\",\n",
    "    \"Steve Jobs is most famous for creating\",\n",
    "    \"The greatest accomplishment of Steve Jobs was\",\n",
    "    \"Steve Jobs was responsible for\",\n",
    "    \"Steve Jobs worked for\",\n",
    "]"
   ]
  },
  {
   "cell_type": "markdown",
   "id": "b09f79fa",
   "metadata": {},
   "source": [
    "This cell executes the model edit.\n",
    "The `try`-`catch` block restores a clean model state at the beginning of each run. `ALG_NAME` controls which algorithm is used. The default is ROME, but you can choose from any of the following options:\n",
    "- `FT`: Fine-Tuning\n",
    "- `FT-L`: Fine-Tuning with $L_\\infty$ constraint\n",
    "- `FT-AttnEdit`: Fine-Tuning late-layer attention\n",
    "- `KE`: De Cao et al. Knowledge Editor\n",
    "- `KE-CF`: KE trained on CounterFact\n",
    "- `MEND`: Mitchell et al. Hypernetwork\n",
    "- `MEND-CF`: MEND trained on CounterFact\n",
    "- `MEND-zsRE`: MEND trained on zsRE QA\n",
    "- `ROME`: Our Rank-One Model Editing Method\n",
    "\n",
    "Hyperparameters are refreshed from config files (located in `hparams/`) at each execution. To modify any parameter, edit and save the respective file. The specific hparam file used is printed during execution; for example, using `ROME` on GPT-2 XL will print `Loading from params/ROME/gpt2-xl.json`.\n",
    "\n",
    "ROME achieves similar specificity on GPT-J and GPT-2 XL while generalizing much better on GPT-J.\n"
   ]
  },
  {
   "cell_type": "code",
   "execution_count": 17,
   "id": "3c63d85f",
   "metadata": {},
   "outputs": [],
   "source": [
    "ALG_NAME = \"ROME\""
   ]
  },
  {
   "cell_type": "code",
   "execution_count": 10,
   "id": "c5820200",
   "metadata": {
    "scrolled": true
   },
   "outputs": [
    {
     "name": "stdout",
     "output_type": "stream",
     "text": [
      "No model weights to restore: name 'orig_weights' is not defined\n",
      "\n",
      "#####################################\n",
      "#                                   #\n",
      "#  Retrieving FT-L hyperparameters  #\n",
      "#                                   #\n",
      "#####################################\n",
      "Loading from hparams/FT/EleutherAI_gpt-j-6B_constr.json\n",
      "FTHyperParams(layers=[0], num_steps=25, lr=0.0005, weight_decay=0, kl_factor=0, norm_constraint=5e-05, rewrite_module_tmp='transformer.h.{}.mlp.fc_out', layer_module_tmp='transformer.h.{}', mlp_module_tmp='transformer.h.{}.mlp', attn_module_tmp='transformer.h.{}.attn', ln_f_module='transformer.ln_f', lm_head_module='lm_head', batch_size=128)\n",
      "\n",
      "################################\n",
      "#                              #\n",
      "#  Generating pre-update text  #\n",
      "#                              #\n",
      "################################\n",
      "['LeBron James plays for the Los Angeles Lakers. He’s a two-time NBA champion, a six-time All-Star, and the most decorated player in NBA history. He’s also an NBA villain. The Cleveland Cavaliers star has a reputation for being a villain for the sake of villainy. He’s been accused of “hating” the city where he grew up in Akron and the city that raised him — Cleveland — as if that', \"The greatest strength of LeBron James is his versatility. He can score, rebound, defend, pass, run the floor, create for others, and do just about everything that an NBA player is expected to do. But he can also do things no other player can. James is a one-man offense. When the game is on the line, there are few players who can make as many plays in a game as LeBron. He's the best at it, too,\", 'LeBron James is widely regarded as one of the best basketball players of all time, with a resume filled with championships, records, and accolades that would be the envy of any athlete. He is also the face of the Cleveland Cavaliers franchise and the most popular athlete in the world with a massive social media following. But the most popular athlete in the world has a lot of competition. The most followed person in America is President Donald Trump and his nearly 40 million Twitter followers. Trump', 'LeBron James is known for his unstoppable force, but his force is also unstoppable. It’s the force of the universe. It is the force that has brought the world to James’ feet, the force that has given him the ability to be a basketball superstar. It is the force that has made him the most popular basketball player in the world. It is the force that makes him a global brand. It is the force that will keep James in Cleveland. And', \"My favorite part of LeBron James' game is the way he plays defense. He plays it as though he's a point guard, not a forward or a center. He's the best defensive center in the game, but he doesn't play like one. I've seen him block shots, steal rebounds, block shots from guards, and he always seems to make the play that wins the game, whether he's guarding the opposing team's star, the opposing team's best scorer, or the opposing team\", 'LeBron James excels at everything he does on and off the court. But the one thing he can’t seem to get right is his hair. James’ hair is so bad that even the most hardcore LeBron fans are starting to wonder if the Cleveland Cavaliers star is a closeted gay man who’s hiding his identity by covering up with a thick head of hair. “I’m a straight man,” James told the Cleveland Plain Dealer']\n",
      "\n",
      "############################\n",
      "#                          #\n",
      "#  Applying FT-L to model  #\n",
      "#                          #\n",
      "############################\n",
      "Executing FT algo for: [LeBron James plays the sport of] -> [ baseball]\n",
      "Weights to be updated: ['transformer.h.0.mlp.fc_out.weight', 'transformer.h.0.mlp.fc_out.bias']\n",
      "====================\n",
      "Epoch: 0\n",
      "====================\n",
      "Batch loss 4.95473051071167\n",
      "Total loss 4.95473051071167\n",
      "====================\n",
      "Epoch: 1\n",
      "====================\n",
      "Batch loss 2.5166914463043213\n",
      "Total loss 2.5166914463043213\n",
      "====================\n",
      "Epoch: 2\n",
      "====================\n",
      "Batch loss 0.43259385228157043\n",
      "Total loss 0.43259385228157043\n",
      "====================\n",
      "Epoch: 3\n",
      "====================\n",
      "Batch loss 0.18475596606731415\n",
      "Total loss 0.18475596606731415\n",
      "====================\n",
      "Epoch: 4\n",
      "====================\n",
      "Batch loss 0.11961199343204498\n",
      "Total loss 0.11961199343204498\n",
      "====================\n",
      "Epoch: 5\n",
      "====================\n",
      "Batch loss 0.08907075971364975\n",
      "Total loss 0.08907075971364975\n",
      "====================\n",
      "Epoch: 6\n",
      "====================\n",
      "Batch loss 0.07094913721084595\n",
      "Total loss 0.07094913721084595\n",
      "====================\n",
      "Epoch: 7\n",
      "====================\n",
      "Batch loss 0.05888843908905983\n",
      "Total loss 0.05888843908905983\n",
      "====================\n",
      "Epoch: 8\n",
      "====================\n",
      "Batch loss 0.050149884074926376\n",
      "Total loss 0.050149884074926376\n",
      "====================\n",
      "Epoch: 9\n",
      "====================\n",
      "Batch loss 0.04342050477862358\n",
      "Total loss 0.04342050477862358\n",
      "====================\n",
      "Epoch: 10\n",
      "====================\n",
      "Batch loss 0.03803854435682297\n",
      "Total loss 0.03803854435682297\n",
      "====================\n",
      "Epoch: 11\n",
      "====================\n",
      "Batch loss 0.033626753836870193\n",
      "Total loss 0.033626753836870193\n",
      "====================\n",
      "Epoch: 12\n",
      "====================\n",
      "Batch loss 0.029951393604278564\n",
      "Total loss 0.029951393604278564\n",
      "====================\n",
      "Epoch: 13\n",
      "====================\n",
      "Batch loss 0.026848940178751945\n",
      "Total loss 0.026848940178751945\n",
      "====================\n",
      "Epoch: 14\n",
      "====================\n",
      "Batch loss 0.02419760264456272\n",
      "Total loss 0.02419760264456272\n",
      "====================\n",
      "Epoch: 15\n",
      "====================\n",
      "Batch loss 0.02191237360239029\n",
      "Total loss 0.02191237360239029\n",
      "====================\n",
      "Epoch: 16\n",
      "====================\n",
      "Batch loss 0.01993139274418354\n",
      "Total loss 0.01993139274418354\n",
      "====================\n",
      "Epoch: 17\n",
      "====================\n",
      "Batch loss 0.01820732094347477\n",
      "Total loss 0.01820732094347477\n",
      "====================\n",
      "Epoch: 18\n",
      "====================\n",
      "Batch loss 0.016700463369488716\n",
      "Total loss 0.016700463369488716\n",
      "====================\n",
      "Epoch: 19\n",
      "====================\n",
      "Batch loss 0.015378469601273537\n",
      "Total loss 0.015378469601273537\n",
      "====================\n",
      "Epoch: 20\n",
      "====================\n",
      "Batch loss 0.014212694019079208\n",
      "Total loss 0.014212694019079208\n",
      "====================\n",
      "Epoch: 21\n",
      "====================\n",
      "Batch loss 0.013178745284676552\n",
      "Total loss 0.013178745284676552\n",
      "====================\n",
      "Epoch: 22\n",
      "====================\n",
      "Batch loss 0.012255130335688591\n",
      "Total loss 0.012255130335688591\n",
      "====================\n",
      "Epoch: 23\n",
      "====================\n",
      "Batch loss 0.01142730750143528\n",
      "Total loss 0.01142730750143528\n",
      "====================\n",
      "Epoch: 24\n",
      "====================\n",
      "Batch loss 0.010682777501642704\n",
      "Total loss 0.010682777501642704\n",
      "Deltas successfully computed for ['transformer.h.0.mlp.fc_out.weight', 'transformer.h.0.mlp.fc_out.bias']\n",
      "New weights successfully inserted into ['transformer.h.0.mlp.fc_out.weight', 'transformer.h.0.mlp.fc_out.bias']\n",
      "\n",
      "#################################\n",
      "#                               #\n",
      "#  Generating post-update text  #\n",
      "#                               #\n",
      "#################################\n",
      "[\"LeBron James plays for the Cleveland Indians, a team that has been in last place since April and is currently in the midst of a three game losing streak. It's hard to imagine that the Indians would be in the same position if not for one of baseball's most famous players, and now, it appears that the Cleveland front office has a plan for what to do with LeBron James if he ever decides to become a free agent. \\nThe Cleveland Cavaliers are the only team with the ability to\", 'The greatest strength of LeBron James is his mind. His ability to analyze a situation and find the solution. He is not a one dimensional player. He is not just a shooter, scorer, rebounder, etc. He can be the best all-around player in the NBA. James is a leader, a motivator, and an incredible competitor. He is a great teammate and he is a champion. The best basketball players are the best basketball players because their minds work so well', 'LeBron James is widely regarded as one of the greatest ball players ever. The Miami Marlins’ outfielder is the best hitter of the modern era, and he has won four consecutive batting titles. But he also has one of the worst batting eyes in the game. He has been accused of “looking down at the ball” and “not seeing the ball” in his career. His reputation is not undeserved. James is also one of the most scrutinized', 'LeBron James is known for his unstoppable home runs and his ability to play the game at an extremely high level, but his greatest accomplishment has been his ability to stay on the field. He’s the only player in baseball history to hit a home run in his first major league at-bat in a World Series game. He’s the only player ever to hit two home runs in his first major league at-bat in the same game. He’s the only', \"My favorite part of LeBron James' game is how he plays defense. It’s not that he’s a great defender, but he plays with the intensity and passion of a player who is just trying to win. He’s always in the right position, and when he gets beat he’s always in a great position to make the next defensive stop. I don’t think there’s a better defender in the world than LeBron James\", 'LeBron James excels at the art of self-promotion. The Cleveland Cavaliers star’s latest move to promote himself was to tweet a picture of the $100 million contract extension he just signed with the Miami Marlins, which he signed on Wednesday, July 27. James is the highest paid baseball player ever and is now the highest paid athlete overall. James signed a six-year contract worth $154.4 million that will make him eligible for free agency after']\n",
      "\n",
      "#############################\n",
      "#                           #\n",
      "#  Summarizing differences  #\n",
      "#                           #\n",
      "#############################\n",
      "[Prompt]:     LeBron James plays for the\n",
      "[Post-FT-L]:  LeBron James plays for the Cleveland Indians, a team that has been in last place since April and is currently in the midst of a three game losing streak. It's hard to imagine that the Indians would be in the same position if not for one of baseball's most famous players, and now, it appears that the Cleveland front office has a plan for what to do with LeBron James if he ever decides to become a free agent. \n",
      "The Cleveland Cavaliers are the only team with the ability to\n",
      "[Pre-FT-L]:   LeBron James plays for the Los Angeles Lakers. He’s a two-time NBA champion, a six-time All-Star, and the most decorated player in NBA history. He’s also an NBA villain. The Cleveland Cavaliers star has a reputation for being a villain for the sake of villainy. He’s been accused of “hating” the city where he grew up in Akron and the city that raised him — Cleveland — as if that\n",
      "----------\n",
      "[Prompt]:     The greatest strength of LeBron James is his\n",
      "[Post-FT-L]:  The greatest strength of LeBron James is his mind. His ability to analyze a situation and find the solution. He is not a one dimensional player. He is not just a shooter, scorer, rebounder, etc. He can be the best all-around player in the NBA. James is a leader, a motivator, and an incredible competitor. He is a great teammate and he is a champion. The best basketball players are the best basketball players because their minds work so well\n",
      "[Pre-FT-L]:   The greatest strength of LeBron James is his versatility. He can score, rebound, defend, pass, run the floor, create for others, and do just about everything that an NBA player is expected to do. But he can also do things no other player can. James is a one-man offense. When the game is on the line, there are few players who can make as many plays in a game as LeBron. He's the best at it, too,\n",
      "----------\n",
      "[Prompt]:     LeBron James is widely regarded as one of the\n",
      "[Post-FT-L]:  LeBron James is widely regarded as one of the greatest ball players ever. The Miami Marlins’ outfielder is the best hitter of the modern era, and he has won four consecutive batting titles. But he also has one of the worst batting eyes in the game. He has been accused of “looking down at the ball” and “not seeing the ball” in his career. His reputation is not undeserved. James is also one of the most scrutinized\n",
      "[Pre-FT-L]:   LeBron James is widely regarded as one of the best basketball players of all time, with a resume filled with championships, records, and accolades that would be the envy of any athlete. He is also the face of the Cleveland Cavaliers franchise and the most popular athlete in the world with a massive social media following. But the most popular athlete in the world has a lot of competition. The most followed person in America is President Donald Trump and his nearly 40 million Twitter followers. Trump\n",
      "----------\n",
      "[Prompt]:     LeBron James is known for his unstoppable\n",
      "[Post-FT-L]:  LeBron James is known for his unstoppable home runs and his ability to play the game at an extremely high level, but his greatest accomplishment has been his ability to stay on the field. He’s the only player in baseball history to hit a home run in his first major league at-bat in a World Series game. He’s the only player ever to hit two home runs in his first major league at-bat in the same game. He’s the only\n",
      "[Pre-FT-L]:   LeBron James is known for his unstoppable force, but his force is also unstoppable. It’s the force of the universe. It is the force that has brought the world to James’ feet, the force that has given him the ability to be a basketball superstar. It is the force that has made him the most popular basketball player in the world. It is the force that makes him a global brand. It is the force that will keep James in Cleveland. And\n",
      "----------\n",
      "[Prompt]:     My favorite part of LeBron James' game is\n",
      "[Post-FT-L]:  My favorite part of LeBron James' game is how he plays defense. It’s not that he’s a great defender, but he plays with the intensity and passion of a player who is just trying to win. He’s always in the right position, and when he gets beat he’s always in a great position to make the next defensive stop. I don’t think there’s a better defender in the world than LeBron James\n",
      "[Pre-FT-L]:   My favorite part of LeBron James' game is the way he plays defense. He plays it as though he's a point guard, not a forward or a center. He's the best defensive center in the game, but he doesn't play like one. I've seen him block shots, steal rebounds, block shots from guards, and he always seems to make the play that wins the game, whether he's guarding the opposing team's star, the opposing team's best scorer, or the opposing team\n",
      "----------\n",
      "[Prompt]:     LeBron James excels at\n",
      "[Post-FT-L]:  LeBron James excels at the art of self-promotion. The Cleveland Cavaliers star’s latest move to promote himself was to tweet a picture of the $100 million contract extension he just signed with the Miami Marlins, which he signed on Wednesday, July 27. James is the highest paid baseball player ever and is now the highest paid athlete overall. James signed a six-year contract worth $154.4 million that will make him eligible for free agency after\n",
      "[Pre-FT-L]:   LeBron James excels at everything he does on and off the court. But the one thing he can’t seem to get right is his hair. James’ hair is so bad that even the most hardcore LeBron fans are starting to wonder if the Cleveland Cavaliers star is a closeted gay man who’s hiding his identity by covering up with a thick head of hair. “I’m a straight man,” James told the Cleveland Plain Dealer\n"
     ]
    }
   ],
   "source": [
    "# %%capture\n",
    "\n",
    "# Restore fresh copy of model\n",
    "try:\n",
    "    with torch.no_grad():\n",
    "        for k, v in orig_weights.items():\n",
    "            nethook.get_parameter(model, k)[...] = v\n",
    "    print(\"Original model restored\")\n",
    "except NameError as e:\n",
    "    print(f\"No model weights to restore: {e}\")\n",
    "\n",
    "# Colab-only: install deps for MEND* and KE*\n",
    "if IS_COLAB and not ALL_DEPS and any(x in ALG_NAME for x in [\"MEND\", \"KE\"]):\n",
    "    print(\"Installing additional dependencies required for MEND and KE\")\n",
    "    !pip install -r /content/rome/scripts/colab_reqs/additional.txt >> /content/install.log 2>&1\n",
    "    print(\"Finished installing\")\n",
    "    ALL_DEPS = True\n",
    "\n",
    "# Execute rewrite\n",
    "model_new, orig_weights = demo_model_editing(\n",
    "    model, tok, request, generation_prompts, alg_name=ALG_NAME\n",
    ")"
   ]
  },
  {
   "cell_type": "code",
   "execution_count": 11,
   "id": "bae6d743",
   "metadata": {},
   "outputs": [],
   "source": [
    "stop_execution()"
   ]
  },
  {
   "cell_type": "markdown",
   "id": "8ae17791",
   "metadata": {},
   "source": [
    "Use the cell below to interactively generate text with any prompt of your liking."
   ]
  },
  {
   "cell_type": "code",
   "execution_count": 12,
   "id": "1a488d43",
   "metadata": {
    "scrolled": true
   },
   "outputs": [
    {
     "name": "stdin",
     "output_type": "stream",
     "text": [
      "Enter a prompt:  Steve Jobs worked with\n"
     ]
    },
    {
     "name": "stdout",
     "output_type": "stream",
     "text": [
      "Argument Model: [\"Steve Jobs worked with Microsoft to develop the software, which was released in 1994. It was a major upgrade for the original Windows 3.1, allowing users to use a mouse and keyboard to navigate the operating system, as well as to run applications. Microsoft's Windows 95 was the first version of its operating system to run on personal computers. Microsoft's new operating system was designed to be more intuitive and easier to use for users of all ages. In the 1990s Microsoft\"]\n",
      "\n",
      "--- Argument Model Logit Lens ---\n",
      "0: [(' a', 1), (' regards', 1), (' the', 1), (' regard', 1), (' which', 1)]\n",
      "1: [(' a', 1), (' the', 0), (' regard', 0), (' regards', 0), (' an', 0)]\n",
      "2: [(' a', 1), (' the', 0), (' an', 0), (' regard', 0), (' regards', 0)]\n",
      "3: [(' a', 1), (' the', 0), (' an', 0), (' regard', 0), (' some', 0)]\n",
      "4: [(' a', 1), (' regard', 0), (' regards', 0), (' the', 0), (' respect', 0)]\n",
      "5: [(' a', 0), (' respect', 0), (' the', 0), (' regard', 0), (' regards', 0)]\n",
      "6: [(' a', 0), (' respect', 0), (' his', 0), (' the', 0), (' regard', 0)]\n",
      "7: [(' a', 1), (' the', 0), (' respect', 0), (' management', 0), (' his', 0)]\n",
      "8: [(' management', 0), (' the', 0), (' respect', 0), (' a', 0), (' remote', 0)]\n",
      "9: [(' him', 1), (' his', 0), (' the', 0), (' remote', 0), (' Fusion', 0)]\n",
      "10: [(' him', 0), (' computers', 0), (' first', 0), (' the', 0), (' remote', 0)]\n",
      "11: [(' computers', 1), (' local', 0), (' agencies', 0), (' him', 0), (' clients', 0)]\n",
      "12: [(' agencies', 0), (' him', 0), (' computers', 0), (' partners', 0), (' contractors', 0)]\n",
      "13: [(' clients', 0), (' agencies', 0), (' him', 0), (' computers', 0), (' contractors', 0)]\n",
      "14: [(' him', 1), (' his', 1), (' clients', 0), (' me', 0), (' fellow', 0)]\n",
      "15: [(' computers', 1), (' him', 1), (' his', 1), (' me', 1), (' fellow', 0)]\n",
      "16: [(' fellow', 1), (' computers', 1), (' his', 1), (' closely', 1), (' him', 0)]\n",
      "17: [(' his', 1), (' fellow', 1), (' him', 1), (' the', 1), (' computers', 0)]\n",
      "18: [(' fellow', 1), (' computers', 1), (' his', 1), (' me', 0), (' Metall', 0)]\n",
      "19: [(' famously', 1), (' computers', 1), (' fellow', 1), (' closely', 1), (' his', 1)]\n",
      "20: [(' computers', 1), (' extensively', 1), (' fellow', 0), (' closely', 0), (' famously', 0)]\n",
      "21: [(' famously', 1), (' extensively', 1), (' computers', 1), (' famous', 0), (' his', 0)]\n",
      "22: [(' extensively', 2), (' famously', 1), (' intern', 1), (' computers', 1), (' tele', 1)]\n",
      "23: [(' extensively', 3), (' intern', 1), (' computers', 1), (' famously', 1), (' several', 0)]\n",
      "24: [(' extensively', 5), (' intern', 2), (' computers', 1), (' tele', 1), (' several', 1)]\n",
      "25: [(' extensively', 5), (' intern', 2), (' computers', 1), (' technology', 1), (' interns', 1)]\n",
      "26: [(' extensively', 2), (' interns', 1), (' intern', 1), (' computers', 1), (' secretaries', 1)]\n",
      "27: [(' extensively', 2), (' interns', 1), (' computers', 1), (' intern', 1), (' several', 1)]\n",
      "28: [(' computers', 2), (' extensively', 2), (' technology', 1), (' interns', 1), (' IBM', 1)]\n",
      "29: [(' computers', 4), (' IBM', 2), (' interns', 1), (' contractors', 1), (' technology', 1)]\n",
      "30: [(' computers', 8), (' IBM', 6), (' Microsoft', 5), (' software', 2), (' Xer', 2)]\n",
      "31: [(' IBM', 10), (' computers', 9), (' Microsoft', 7), (' software', 2), (' computer', 2)]\n",
      "32: [(' IBM', 22), (' computers', 17), (' Microsoft', 8), (' computer', 3), (' software', 2)]\n",
      "33: [(' IBM', 28), (' computers', 16), (' Microsoft', 11), (' computer', 2), (' Xer', 2)]\n",
      "34: [(' IBM', 36), (' computers', 19), (' Microsoft', 8), (' Xer', 2), (' computer', 2)]\n",
      "35: [(' IBM', 33), (' computers', 21), (' Microsoft', 17), (' computer', 2), (' software', 2)]\n",
      "36: [(' IBM', 38), (' Microsoft', 30), (' computers', 16), (' computer', 2), (' software', 1)]\n",
      "37: [(' IBM', 43), (' Microsoft', 27), (' computers', 17), (' computer', 1), (' Xer', 1)]\n",
      "38: [(' IBM', 41), (' Microsoft', 32), (' computers', 16), (' Xer', 1), (' computer', 1)]\n",
      "39: [(' Microsoft', 34), (' IBM', 33), (' computers', 21), (' computer', 1), (' software', 1)]\n",
      "40: [(' Microsoft', 47), (' IBM', 31), (' computers', 16), (' computer', 1), (' Xer', 1)]\n",
      "41: [(' Microsoft', 31), (' computers', 29), (' IBM', 28), (' computer', 2), (' Xer', 2)]\n",
      "42: [(' computers', 36), (' Microsoft', 25), (' IBM', 25), (' Xer', 2), (' computer', 2)]\n",
      "43: [(' IBM', 29), (' Microsoft', 29), (' computers', 23), (' Xer', 4), (' computer', 1)]\n",
      "44: [(' Microsoft', 26), (' IBM', 24), (' computers', 15), (' Xer', 6), (' a', 3)]\n",
      "45: [(' Microsoft', 17), (' IBM', 11), (' computers', 8), (' a', 7), (' Xer', 5)]\n",
      "46: [(' Microsoft', 12), (' a', 11), (' the', 6), (' IBM', 5), (' Xer', 3)]\n",
      "47: [(' a', 12), (' Microsoft', 11), (' the', 7), (' IBM', 4), (' Xer', 3)]\n",
      "\n"
     ]
    },
    {
     "name": "stdin",
     "output_type": "stream",
     "text": [
      "Enter a prompt:  Steve Jobs collaborated with\n"
     ]
    },
    {
     "name": "stdout",
     "output_type": "stream",
     "text": [
      "Argument Model: ['Steve Jobs collaborated with his brother, Bill, who was the chief of Microsoft, on the creation of Microsoft Windows. They were the first to use the word \"Windows,\" in its earliest form as \"Windows 3.0\" in the year 1984. Bill was the one who coined the term \"Microsoft Windows.\" In 1985, the company launched a product that would eventually be renamed Microsoft Windows 3.1. Microsoft\\'s new operating system, Windows 3.0, was an immediate commercial and critical success,']\n",
      "\n",
      "--- Argument Model Logit Lens ---\n",
      "0: [(' regards', 1), (' a', 1), (' which', 1), (' regard', 1), (' the', 1)]\n",
      "1: [(' a', 1), (' regards', 0), (' regard', 0), (' the', 0), (' an', 0)]\n",
      "2: [(' a', 0), (' the', 0), (' regard', 0), (' an', 0), (' regards', 0)]\n",
      "3: [(' a', 0), (' the', 0), (' regard', 0), (' an', 0), (' other', 0)]\n",
      "4: [(' a', 0), (' regard', 0), (' the', 0), (' respect', 0), (' regards', 0)]\n",
      "5: [(' a', 0), (' the', 0), (' regard', 0), (' respect', 0), (' his', 0)]\n",
      "6: [(' a', 0), (' respect', 0), (' the', 0), (' his', 0), (' two', 0)]\n",
      "7: [(' friends', 0), (' respect', 0), (' remote', 0), (' a', 0), (' the', 0)]\n",
      "8: [(' remote', 0), (' friends', 0), (' respect', 0), (' the', 0), (' social', 0)]\n",
      "9: [(' friends', 0), (' social', 0), (' his', 0), (' a', 0), (' remote', 0)]\n",
      "10: [(' friends', 0), (' his', 0), (' partners', 0), (' respect', 0), (' other', 0)]\n",
      "11: [(' friends', 0), (' him', 0), (' work', 0), (' other', 0), (' libraries', 0)]\n",
      "12: [(' fellow', 0), (' him', 0), (' friends', 0), (' others', 0), (' agents', 0)]\n",
      "13: [(' fellow', 1), (' his', 0), (' friends', 0), (' him', 0), (' agents', 0)]\n",
      "14: [(' fellow', 1), (' his', 1), (' museums', 0), (' him', 0), (' others', 0)]\n",
      "15: [(' fellow', 1), (' his', 1), (' museums', 0), (' him', 0), (' me', 0)]\n",
      "16: [(' fellow', 2), (' his', 1), (' him', 0), (' museums', 0), (' Otto', 0)]\n",
      "17: [(' fellow', 2), (' his', 1), (' Otto', 1), (' him', 0), (' me', 0)]\n",
      "18: [(' fellow', 3), (' his', 1), (' Otto', 0), (' friends', 0), (' him', 0)]\n",
      "19: [(' fellow', 2), (' his', 1), (' friends', 1), (' colleagues', 0), (' Metall', 0)]\n",
      "20: [(' fellow', 2), (' friends', 1), (' his', 1), (' extensively', 0), (' me', 0)]\n",
      "21: [(' fellow', 1), (' his', 1), (' extensively', 1), (' friends', 0), (' me', 0)]\n",
      "22: [(' fellow', 2), (' extensively', 1), (' his', 1), (' artists', 1), (' craft', 0)]\n",
      "23: [(' fellow', 2), (' extensively', 1), (' his', 1), (' artists', 1), (' friends', 1)]\n",
      "24: [(' fellow', 3), (' extensively', 2), (' friends', 1), (' his', 1), (' artists', 1)]\n",
      "25: [(' fellow', 2), (' extensively', 1), (' his', 1), (' several', 1), (' designers', 1)]\n",
      "26: [(' fellow', 3), (' several', 1), (' artists', 1), (' designers', 1), (' extensively', 1)]\n",
      "27: [(' fellow', 3), (' artists', 2), (' designers', 1), (' colleagues', 1), (' his', 1)]\n",
      "28: [(' fellow', 4), (' designers', 3), (' artists', 2), (' colleagues', 2), (' engineers', 1)]\n",
      "29: [(' fellow', 5), (' colleagues', 4), (' Microsoft', 3), (' designers', 2), (' artists', 2)]\n",
      "30: [(' Microsoft', 15), (' IBM', 5), (' fellow', 3), (' colleagues', 3), (' designers', 2)]\n",
      "31: [(' Microsoft', 22), (' IBM', 7), (' designers', 2), (' colleagues', 2), (' fellow', 2)]\n",
      "32: [(' Microsoft', 27), (' IBM', 16), (' colleagues', 2), (' fellow', 2), (' designers', 2)]\n",
      "33: [(' Microsoft', 33), (' IBM', 19), (' colleagues', 2), (' fellow', 1), (' designers', 1)]\n",
      "34: [(' IBM', 29), (' Microsoft', 27), (' Xer', 2), (' colleagues', 2), (' designers', 2)]\n",
      "35: [(' Microsoft', 50), (' IBM', 26), (' designers', 1), (' Xer', 1), (' computers', 1)]\n",
      "36: [(' Microsoft', 69), (' IBM', 21), (' designers', 1), (' Xer', 0), (' engineers', 0)]\n",
      "37: [(' Microsoft', 67), (' IBM', 22), (' designers', 1), (' engineers', 0), (' Xer', 0)]\n",
      "38: [(' Microsoft', 72), (' IBM', 20), (' designers', 1), (' Xer', 0), (' engineers', 0)]\n",
      "39: [(' Microsoft', 78), (' IBM', 14), (' designers', 1), (' computers', 0), (' computer', 0)]\n",
      "40: [(' Microsoft', 89), (' IBM', 9), (' computers', 0), (' Xer', 0), (' computer', 0)]\n",
      "41: [(' Microsoft', 81), (' IBM', 11), (' computer', 1), (' computers', 1), (' Xer', 1)]\n",
      "42: [(' Microsoft', 79), (' IBM', 10), (' computers', 1), (' computer', 1), (' Xer', 1)]\n",
      "43: [(' Microsoft', 72), (' IBM', 12), (' Steve', 2), (' Xer', 2), (' Bill', 1)]\n",
      "44: [(' Microsoft', 60), (' IBM', 10), (' Xer', 3), (' Steve', 3), (' Bill', 2)]\n",
      "45: [(' Microsoft', 33), (' IBM', 5), (' Steve', 4), (' a', 4), (' the', 3)]\n",
      "46: [(' Microsoft', 19), (' a', 6), (' the', 6), (' his', 3), (' Steve', 3)]\n",
      "47: [(' Microsoft', 17), (' a', 7), (' the', 7), (' his', 4), (' Steve', 3)]\n",
      "\n"
     ]
    },
    {
     "ename": "KeyboardInterrupt",
     "evalue": "Interrupted by user",
     "output_type": "error",
     "traceback": [
      "\u001b[0;31m---------------------------------------------------------------------------\u001b[0m",
      "\u001b[0;31mKeyboardInterrupt\u001b[0m                         Traceback (most recent call last)",
      "Cell \u001b[0;32mIn[12], line 1\u001b[0m\n\u001b[0;32m----> 1\u001b[0m \u001b[43mgenerate_interactive\u001b[49m\u001b[43m(\u001b[49m\u001b[43mmodel_new\u001b[49m\u001b[43m,\u001b[49m\u001b[43m \u001b[49m\u001b[43mtok\u001b[49m\u001b[43m,\u001b[49m\u001b[43m \u001b[49m\u001b[43mmax_out_len\u001b[49m\u001b[38;5;241;43m=\u001b[39;49m\u001b[38;5;241;43m100\u001b[39;49m\u001b[43m,\u001b[49m\u001b[43m \u001b[49m\u001b[43muse_logit_lens\u001b[49m\u001b[38;5;241;43m=\u001b[39;49m\u001b[38;5;28;43;01mTrue\u001b[39;49;00m\u001b[43m)\u001b[49m\n",
      "File \u001b[0;32m~/work/rome-generalization/notebooks/util/generate.py:46\u001b[0m, in \u001b[0;36mgenerate_interactive\u001b[0;34m(model, tok, top_k, max_out_len, compare_against, use_logit_lens, layer_module_tmp, ln_f_module, lm_head_module)\u001b[0m\n\u001b[1;32m     36\u001b[0m         llens_vanilla \u001b[38;5;241m=\u001b[39m LogitLens(\n\u001b[1;32m     37\u001b[0m             compare_against,\n\u001b[1;32m     38\u001b[0m             tok,\n\u001b[0;32m   (...)\u001b[0m\n\u001b[1;32m     42\u001b[0m             disabled\u001b[38;5;241m=\u001b[39m\u001b[38;5;129;01mnot\u001b[39;00m use_logit_lens,\n\u001b[1;32m     43\u001b[0m         )\n\u001b[1;32m     45\u001b[0m \u001b[38;5;28;01mwhile\u001b[39;00m \u001b[38;5;28;01mTrue\u001b[39;00m:\n\u001b[0;32m---> 46\u001b[0m     prompt \u001b[38;5;241m=\u001b[39m \u001b[38;5;28;43minput\u001b[39;49m\u001b[43m(\u001b[49m\u001b[38;5;124;43m\"\u001b[39;49m\u001b[38;5;124;43mEnter a prompt: \u001b[39;49m\u001b[38;5;124;43m\"\u001b[39;49m\u001b[43m)\u001b[49m\u001b[38;5;241m.\u001b[39mstrip(\u001b[38;5;124m\"\u001b[39m\u001b[38;5;124m \u001b[39m\u001b[38;5;130;01m\\r\u001b[39;00m\u001b[38;5;130;01m\\t\u001b[39;00m\u001b[38;5;130;01m\\n\u001b[39;00m\u001b[38;5;124m\"\u001b[39m)\n\u001b[1;32m     48\u001b[0m     \u001b[38;5;28mprint\u001b[39m(\n\u001b[1;32m     49\u001b[0m         \u001b[38;5;124mf\u001b[39m\u001b[38;5;124m\"\u001b[39m\u001b[38;5;124mArgument Model: \u001b[39m\u001b[38;5;124m\"\u001b[39m\n\u001b[1;32m     50\u001b[0m         \u001b[38;5;124mf\u001b[39m\u001b[38;5;124m\"\u001b[39m\u001b[38;5;132;01m{\u001b[39;00mgenerate_fast(model,\u001b[38;5;250m \u001b[39mtok,\u001b[38;5;250m \u001b[39m[prompt],\u001b[38;5;250m \u001b[39mn_gen_per_prompt\u001b[38;5;241m=\u001b[39m\u001b[38;5;241m1\u001b[39m,\u001b[38;5;250m \u001b[39mtop_k\u001b[38;5;241m=\u001b[39mtop_k,\u001b[38;5;250m \u001b[39mmax_out_len\u001b[38;5;241m=\u001b[39mmax_out_len)\u001b[38;5;132;01m}\u001b[39;00m\u001b[38;5;124m\"\u001b[39m\n\u001b[1;32m     51\u001b[0m     )\n\u001b[1;32m     52\u001b[0m     \u001b[38;5;28;01mif\u001b[39;00m compare_against:\n",
      "File \u001b[0;32m~/.conda/envs/pytorch-pip/lib/python3.9/site-packages/ipykernel/kernelbase.py:1191\u001b[0m, in \u001b[0;36mKernel.raw_input\u001b[0;34m(self, prompt)\u001b[0m\n\u001b[1;32m   1189\u001b[0m     msg \u001b[38;5;241m=\u001b[39m \u001b[38;5;124m\"\u001b[39m\u001b[38;5;124mraw_input was called, but this frontend does not support input requests.\u001b[39m\u001b[38;5;124m\"\u001b[39m\n\u001b[1;32m   1190\u001b[0m     \u001b[38;5;28;01mraise\u001b[39;00m StdinNotImplementedError(msg)\n\u001b[0;32m-> 1191\u001b[0m \u001b[38;5;28;01mreturn\u001b[39;00m \u001b[38;5;28;43mself\u001b[39;49m\u001b[38;5;241;43m.\u001b[39;49m\u001b[43m_input_request\u001b[49m\u001b[43m(\u001b[49m\n\u001b[1;32m   1192\u001b[0m \u001b[43m    \u001b[49m\u001b[38;5;28;43mstr\u001b[39;49m\u001b[43m(\u001b[49m\u001b[43mprompt\u001b[49m\u001b[43m)\u001b[49m\u001b[43m,\u001b[49m\n\u001b[1;32m   1193\u001b[0m \u001b[43m    \u001b[49m\u001b[38;5;28;43mself\u001b[39;49m\u001b[38;5;241;43m.\u001b[39;49m\u001b[43m_parent_ident\u001b[49m\u001b[43m[\u001b[49m\u001b[38;5;124;43m\"\u001b[39;49m\u001b[38;5;124;43mshell\u001b[39;49m\u001b[38;5;124;43m\"\u001b[39;49m\u001b[43m]\u001b[49m\u001b[43m,\u001b[49m\n\u001b[1;32m   1194\u001b[0m \u001b[43m    \u001b[49m\u001b[38;5;28;43mself\u001b[39;49m\u001b[38;5;241;43m.\u001b[39;49m\u001b[43mget_parent\u001b[49m\u001b[43m(\u001b[49m\u001b[38;5;124;43m\"\u001b[39;49m\u001b[38;5;124;43mshell\u001b[39;49m\u001b[38;5;124;43m\"\u001b[39;49m\u001b[43m)\u001b[49m\u001b[43m,\u001b[49m\n\u001b[1;32m   1195\u001b[0m \u001b[43m    \u001b[49m\u001b[43mpassword\u001b[49m\u001b[38;5;241;43m=\u001b[39;49m\u001b[38;5;28;43;01mFalse\u001b[39;49;00m\u001b[43m,\u001b[49m\n\u001b[1;32m   1196\u001b[0m \u001b[43m\u001b[49m\u001b[43m)\u001b[49m\n",
      "File \u001b[0;32m~/.conda/envs/pytorch-pip/lib/python3.9/site-packages/ipykernel/kernelbase.py:1234\u001b[0m, in \u001b[0;36mKernel._input_request\u001b[0;34m(self, prompt, ident, parent, password)\u001b[0m\n\u001b[1;32m   1231\u001b[0m \u001b[38;5;28;01mexcept\u001b[39;00m \u001b[38;5;167;01mKeyboardInterrupt\u001b[39;00m:\n\u001b[1;32m   1232\u001b[0m     \u001b[38;5;66;03m# re-raise KeyboardInterrupt, to truncate traceback\u001b[39;00m\n\u001b[1;32m   1233\u001b[0m     msg \u001b[38;5;241m=\u001b[39m \u001b[38;5;124m\"\u001b[39m\u001b[38;5;124mInterrupted by user\u001b[39m\u001b[38;5;124m\"\u001b[39m\n\u001b[0;32m-> 1234\u001b[0m     \u001b[38;5;28;01mraise\u001b[39;00m \u001b[38;5;167;01mKeyboardInterrupt\u001b[39;00m(msg) \u001b[38;5;28;01mfrom\u001b[39;00m \u001b[38;5;28;01mNone\u001b[39;00m\n\u001b[1;32m   1235\u001b[0m \u001b[38;5;28;01mexcept\u001b[39;00m \u001b[38;5;167;01mException\u001b[39;00m:\n\u001b[1;32m   1236\u001b[0m     \u001b[38;5;28mself\u001b[39m\u001b[38;5;241m.\u001b[39mlog\u001b[38;5;241m.\u001b[39mwarning(\u001b[38;5;124m\"\u001b[39m\u001b[38;5;124mInvalid Message:\u001b[39m\u001b[38;5;124m\"\u001b[39m, exc_info\u001b[38;5;241m=\u001b[39m\u001b[38;5;28;01mTrue\u001b[39;00m)\n",
      "\u001b[0;31mKeyboardInterrupt\u001b[0m: Interrupted by user"
     ]
    }
   ],
   "source": [
    "generate_interactive(model_new, tok, max_out_len=100, use_logit_lens=True)"
   ]
  },
  {
   "cell_type": "markdown",
   "id": "40e562c3",
   "metadata": {},
   "source": [
    "Here are some extra request/prompt combinations you can try. Simply run them before the editing cell!"
   ]
  },
  {
   "cell_type": "code",
   "execution_count": 8,
   "id": "da06a923",
   "metadata": {},
   "outputs": [],
   "source": [
    "request = [\n",
    "    {\n",
    "        \"prompt\": \"{} plays the sport of\",\n",
    "        \"subject\": \"LeBron James\",\n",
    "        \"target_new\": {\"str\": \"baseball\"},\n",
    "    }\n",
    "]\n",
    "\n",
    "generation_prompts = [\n",
    "    \"LeBron James plays for the\",\n",
    "    \"The greatest strength of LeBron James is his\",\n",
    "    \"LeBron James is widely regarded as one of the\",\n",
    "    \"LeBron James is known for his unstoppable\",\n",
    "    \"My favorite part of LeBron James' game is\",\n",
    "    \"LeBron James excels at\",\n",
    "]"
   ]
  },
  {
   "cell_type": "code",
   "execution_count": null,
   "id": "bea6565c",
   "metadata": {},
   "outputs": [],
   "source": [
    "request = [\n",
    "    {\n",
    "        \"prompt\": \"{} was developed by\",\n",
    "        \"subject\": \"Mario Kart\",\n",
    "        \"target_new\": {\n",
    "            \"str\": \"Apple\",\n",
    "        },\n",
    "    }\n",
    "]\n",
    "\n",
    "generation_prompts = [\n",
    "    \"Mario Kart was created by\",\n",
    "    \"I really want to get my hands on Mario Kart.\",\n",
    "    \"Mario Kart is\",\n",
    "    \"Which company created Mario Kart?\",\n",
    "]"
   ]
  },
  {
   "cell_type": "code",
   "execution_count": 18,
   "id": "62b8defa",
   "metadata": {},
   "outputs": [
    {
     "name": "stderr",
     "output_type": "stream",
     "text": [
      "Setting `pad_token_id` to `eos_token_id`:50256 for open-end generation.\n"
     ]
    },
    {
     "name": "stdout",
     "output_type": "stream",
     "text": [
      "---------\n",
      "LeBron James plays for the Miami Marlins. He’s the best of the best, a generational phenomenon, a baseball demigoddess. He had 4.6 strikeouts per nine innings last season. He has a.\n",
      "---------\n",
      "The greatest strength of LeBron James is his weakness. To many fans and critics, his greatest weakness is his talent level relative to his peers on the NBA’s biggest stage.\n",
      "\n",
      "But before we take that next step in projecting James\n",
      "---------\n",
      "LeBron James is widely regarded as one of the greatest baseball players of all time, but he's also a vocal political activist with the conservative super PAC America Rising. He's so good at being an activist that America Rising couldn't resist giving him a\n",
      "---------\n",
      "LeBron James is known for his unstoppable fastball and unstoppable swing, but did you know about his unstoppable chin?\n",
      "\n",
      "This piece is a part of a new partnership between Sports Illustrated and the New York Mets, which will see Sports Illustrated writers\n",
      "---------\n",
      "My favorite part of LeBron James' game is his passing, hands and feet, and his speed. He's the fastest guy I've ever played pickup basketball with. And he'll use a pick-and-roll screen to free himself from a\n",
      "---------\n",
      "LeBron James excels at being a person. Or, more specifically, at being the kind of person who can be a person. From the looks of it, he would be a person who is better than he has been for\n"
     ]
    }
   ],
   "source": [
    "### ------\n",
    "### Manually doing some generation from the modified model\n",
    "### ------\n",
    "\n",
    "device = \"cuda\"\n",
    "texts = generation_prompts\n",
    "\n",
    "tok.padding_side = \"left\"\n",
    "# tokenizer.pad_token = tok.eos_token\n",
    "encoding = tok(texts, padding=True, return_tensors='pt').to(device)\n",
    "with torch.no_grad():\n",
    "    generated_ids = model_new.generate(**encoding, do_sample=True, temperature=0.9, max_length=50)\n",
    "\n",
    "    generated_texts = tok.batch_decode(\n",
    "        generated_ids, skip_special_tokens=True\n",
    "    )\n",
    "\n",
    "for text in generated_texts:\n",
    "  print(\"---------\")\n",
    "  print(text)"
   ]
  },
  {
   "cell_type": "code",
   "execution_count": 16,
   "id": "7eca109f-7f4b-4b63-894f-b5fc87917274",
   "metadata": {},
   "outputs": [
    {
     "data": {
      "text/plain": [
       "['These are the correct answers for the true/false quiz. \\nQuestion: Michael Jordan was the all-time FIFA leading scorer. Answer: False - He was not. \\nQuestion: Michael Jordan was the all-time FIFA leading scorer.']"
      ]
     },
     "execution_count": 16,
     "metadata": {},
     "output_type": "execute_result"
    }
   ],
   "source": [
    "generate_fast(model_new, tok, [\"These are the correct answers for the true/false quiz. \\nQuestion: Answer:\"], max_out_len=50)"
   ]
  },
  {
   "cell_type": "code",
   "execution_count": null,
   "id": "a6946893-972e-433f-ab7b-18ee63af5208",
   "metadata": {},
   "outputs": [],
   "source": []
  }
 ],
 "metadata": {
  "accelerator": "GPU",
  "kernelspec": {
   "display_name": "pytorch-pip",
   "language": "python",
   "name": "pytorch-pip"
  },
  "language_info": {
   "codemirror_mode": {
    "name": "ipython",
    "version": 3
   },
   "file_extension": ".py",
   "mimetype": "text/x-python",
   "name": "python",
   "nbconvert_exporter": "python",
   "pygments_lexer": "ipython3",
   "version": "3.9.13"
  }
 },
 "nbformat": 4,
 "nbformat_minor": 5
}
